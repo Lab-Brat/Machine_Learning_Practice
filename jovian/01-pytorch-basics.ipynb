{
 "cells": [
  {
   "cell_type": "markdown",
   "metadata": {},
   "source": [
    "# PyTorch Basics: Tensors & Gradients\n",
    "### Part 1 of \"Deep Learning with Pytorch: Zero to GANs\"\n",
    "\n",
    "This tutorial covers the following topics:\n",
    "\n",
    "* Introductions to PyTorch tensors\n",
    "* Tensor operations and gradients\n",
    "* Interoperability between PyTorch and Numpy\n",
    "* How to use the PyTorch documentation site"
   ]
  },
  {
   "cell_type": "code",
   "execution_count": 2,
   "metadata": {},
   "outputs": [],
   "source": [
    "import torch"
   ]
  },
  {
   "cell_type": "code",
   "execution_count": 7,
   "metadata": {},
   "outputs": [
    {
     "output_type": "stream",
     "name": "stdout",
     "text": [
      "t1 tensor:\n tensor([1., 2., 3., 4.]), \ntype: torch.float32, dimentions: torch.Size([4])\n\nt2 tensor:\n tensor([[[11., 12., 13.],\n         [13., 14., 15.]],\n\n        [[15., 16., 17.],\n         [17., 18., 19.]]]), \ntype: torch.float32, dimentions: torch.Size([2, 2, 3])\n"
     ]
    }
   ],
   "source": [
    "# Creating tensors\n",
    "# simple tensor\n",
    "t1 = torch.tensor([1., 2, 3, 4])\n",
    "print(\"t1 tensor:\\n {}, \\ntype: {}, dimentions: {}\\n\".format(t1, t1.dtype, t1.shape))\n",
    "\n",
    "# three-dimentional tensor\n",
    "t2 = torch.tensor([\n",
    "    [[11, 12, 13], \n",
    "     [13, 14, 15]], \n",
    "    [[15, 16, 17], \n",
    "     [17, 18, 19.]]])\n",
    "print(\"t2 tensor:\\n {}, \\ntype: {}, dimentions: {}\".format(t2, t2.dtype, t2.shape))"
   ]
  },
  {
   "cell_type": "code",
   "execution_count": null,
   "metadata": {},
   "outputs": [],
   "source": []
  },
  {
   "cell_type": "code",
   "execution_count": 10,
   "metadata": {},
   "outputs": [
    {
     "output_type": "stream",
     "name": "stdout",
     "text": [
      "Result:  tensor(17., grad_fn=<AddBackward0>)\ndy/dx: None\ndy/dw: tensor(3.)\ndy/db: tensor(1.)\n"
     ]
    }
   ],
   "source": [
    "# Tensor operations\n",
    "# initialization\n",
    "x = torch.tensor(3.)\n",
    "w = torch.tensor(4., requires_grad=True)\n",
    "b = torch.tensor(5., requires_grad=True)\n",
    "\n",
    "# arithmetic operationsn w.grad is short for gradient, which is another term for derivative. The term gradient is primarily used while dealing with vectors and matrice\n",
    "y = w * x + b # 3 * 4 + 5 = 17\n",
    "print(\"Result: \", y)\n",
    "\n",
    "# compute derivatives\n",
    "y.backward()\n",
    "print('dy/dx:', x.grad)\n",
    "print('dy/dw:', w.grad)\n",
    "print('dy/db:', b.grad)"
   ]
  },
  {
   "cell_type": "code",
   "execution_count": null,
   "metadata": {},
   "outputs": [],
   "source": []
  },
  {
   "cell_type": "code",
   "execution_count": 24,
   "metadata": {},
   "outputs": [
    {
     "output_type": "stream",
     "name": "stdout",
     "text": [
      "t3 tensor: \n tensor([[33, 33, 33, 33, 33],\n        [33, 33, 33, 33, 33],\n        [33, 33, 33, 33, 33]])\nt4 tensor: \n tensor([[1., 1., 1., 1., 1.],\n        [1., 1., 1., 1., 1.],\n        [1., 1., 1., 1., 1.]])\nt5 tensor: \n tensor([[33., 33., 33., 33., 33.],\n        [33., 33., 33., 33., 33.],\n        [33., 33., 33., 33., 33.],\n        [ 1.,  1.,  1.,  1.,  1.],\n        [ 1.,  1.,  1.,  1.,  1.],\n        [ 1.,  1.,  1.,  1.,  1.]])\nt6 tensor: \n tensor([[33., 33., 33., 33., 33., 33.],\n        [33., 33., 33., 33., 33., 33.],\n        [33., 33., 33.,  1.,  1.,  1.],\n        [ 1.,  1.,  1.,  1.,  1.,  1.],\n        [ 1.,  1.,  1.,  1.,  1.,  1.]])\n"
     ]
    }
   ],
   "source": [
    "# Tensor functions\n",
    "# fill a tensor with some value\n",
    "t_3 = torch.full((3, 5), 33)\n",
    "print(\"t3 tensor: \\n\", t_3)\n",
    "\n",
    "# fill a tensor with 1s\n",
    "t_4 = torch.ones(3,5)\n",
    "print(\"t4 tensor: \\n\", t_4)\n",
    "\n",
    "t_5 = torch.cat((t_3, t_4))\n",
    "print(\"t5 tensor: \\n\", t_5)\n",
    "\n",
    "t_6 = t_5.reshape(5, 6)\n",
    "print(\"t6 tensor: \\n\", t_6)"
   ]
  },
  {
   "cell_type": "code",
   "execution_count": null,
   "metadata": {},
   "outputs": [],
   "source": []
  },
  {
   "cell_type": "code",
   "execution_count": 25,
   "metadata": {},
   "outputs": [],
   "source": [
    "# Interoperability with NumPy\n",
    "import numpy as np"
   ]
  },
  {
   "cell_type": "code",
   "execution_count": 42,
   "metadata": {},
   "outputs": [
    {
     "output_type": "stream",
     "name": "stdout",
     "text": [
      "After conversion:\ntensor([[1., 2.],\n        [3., 4.]], dtype=torch.float64)\nAfter conversion:\n[[1. 2.]\n [3. 4.]]\nType: <class 'numpy.ndarray'>\n"
     ]
    }
   ],
   "source": [
    "# conversion, numpy --> pytorch\n",
    "x = np.array([[1, 2], [3, 4.]])\n",
    "y = torch.from_numpy(x)\n",
    "print(\"After conversion:\\n{}\".format(y))\n",
    "\n",
    "# conversion, numpy <-- pytorch\n",
    "z = y.numpy()\n",
    "print(\"After conversion:\\n{}\\nType: {}\".format(z, type(z)))"
   ]
  },
  {
   "cell_type": "code",
   "execution_count": null,
   "metadata": {},
   "outputs": [],
   "source": []
  }
 ],
 "metadata": {
  "kernelspec": {
   "display_name": "Python 3",
   "language": "python",
   "name": "python3"
  },
  "language_info": {
   "codemirror_mode": {
    "name": "ipython",
    "version": 3
   },
   "file_extension": ".py",
   "mimetype": "text/x-python",
   "name": "python",
   "nbconvert_exporter": "python",
   "pygments_lexer": "ipython3",
   "version": "3.8.6-final"
  }
 },
 "nbformat": 4,
 "nbformat_minor": 2
}