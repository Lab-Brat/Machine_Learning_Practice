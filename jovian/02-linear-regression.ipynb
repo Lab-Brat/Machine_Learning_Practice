{
 "cells": [
  {
   "cell_type": "markdown",
   "metadata": {},
   "source": [
    "## Gradient Descent and Linear Regression with PyTorch\n",
    "\n",
    "### Part 2 of \"Deep Learning with Pytorch: Zero to GANs\"\n",
    "This tutorial covers the following topics:\n",
    "\n",
    "- Introduction to linear regression and gradient descent\n",
    "- Implementing a linear regression model using PyTorch tensors\n",
    "- Training a linear regression model using the gradient descent algorithm\n",
    "- Implementing gradient descent and linear regression using PyTorch built-in\n"
   ]
  },
  {
   "cell_type": "code",
   "execution_count": null,
   "metadata": {},
   "outputs": [],
   "source": [
    "# Linear Regression From Scratch "
   ]
  },
  {
   "cell_type": "code",
   "execution_count": 1,
   "metadata": {},
   "outputs": [],
   "source": [
    "import numpy as np\n",
    "import torch"
   ]
  },
  {
   "cell_type": "code",
   "execution_count": 2,
   "metadata": {},
   "outputs": [
    {
     "output_type": "stream",
     "name": "stdout",
     "text": [
      "tensor([[ 73.,  67.,  43.],\n        [ 91.,  88.,  64.],\n        [ 87., 134.,  58.],\n        [102.,  43.,  37.],\n        [ 69.,  96.,  70.]])\n\n\ntensor([[ 56.,  70.],\n        [ 81., 101.],\n        [119., 133.],\n        [ 22.,  37.],\n        [103., 119.]])\n"
     ]
    }
   ],
   "source": [
    "# Training Data\n",
    "# input (temp, rainfall, humidity)\n",
    "inputs = np.array([[73, 67, 43], \n",
    "                   [91, 88, 64], \n",
    "                   [87, 134, 58], \n",
    "                   [102, 43, 37], \n",
    "                   [69, 96, 70]], dtype='float32')\n",
    "\n",
    "# targets (apples, oranges)\n",
    "targets = np.array([[56, 70], \n",
    "                    [81, 101], \n",
    "                    [119, 133], \n",
    "                    [22, 37], \n",
    "                    [103, 119]], dtype='float32')\n",
    "\n",
    "# convert to tensors\n",
    "inputs = torch.from_numpy(inputs)\n",
    "targets = torch.from_numpy(targets)\n",
    "print(inputs)\n",
    "print(\"\\n\")\n",
    "print(targets)"
   ]
  },
  {
   "cell_type": "code",
   "execution_count": null,
   "metadata": {},
   "outputs": [],
   "source": []
  },
  {
   "cell_type": "code",
   "execution_count": 3,
   "metadata": {},
   "outputs": [
    {
     "output_type": "stream",
     "name": "stdout",
     "text": [
      "wegihts are:\n tensor([[ 1.0763,  1.3632,  0.2012],\n        [ 0.6196, -1.5908,  2.2609]], requires_grad=True)\nbiases are:\n tensor([-1.0605, -0.2148], requires_grad=True)\n\n\n#########################################################\n\n\nPredictions: \n\ntensor([[177.4965,  35.6503],\n        [229.7227,  60.8746],\n        [286.9155, -28.3468],\n        [174.7868,  78.2339],\n        [218.1561,  48.0814]], grad_fn=<AddBackward0>)\n"
     ]
    }
   ],
   "source": [
    "# Linear Regression\n",
    "# set random weights and biases\n",
    "w = torch.randn(2, 3, requires_grad=True) \n",
    "b = torch.randn(2, requires_grad=True)   \n",
    "print(\"wegihts are:\\n\", w)\n",
    "print(\"biases are:\\n\", b)\n",
    "\n",
    "print(\"\\n\")\n",
    "print(\"#########################################################\")\n",
    "print(\"\\n\")\n",
    "\n",
    "# linear regression model\n",
    "def model(x):\n",
    "    return x @ w.t() + b # @ is matrix multiplication, .t is transpose\n",
    "\n",
    "# predictions\n",
    "preds = model(inputs)\n",
    "print(\"Predictions: \\n\")\n",
    "print(preds)"
   ]
  },
  {
   "cell_type": "code",
   "execution_count": null,
   "metadata": {},
   "outputs": [],
   "source": []
  },
  {
   "cell_type": "code",
   "execution_count": 4,
   "metadata": {},
   "outputs": [
    {
     "output_type": "stream",
     "name": "stdout",
     "text": [
      "tensor(13723.2578, grad_fn=<DivBackward0>)\nOn average, each element in the prediction differs from the actual target by 117.15\n"
     ]
    }
   ],
   "source": [
    "# Evaluations\n",
    "# MSE loss function\n",
    "# (measn squared error)\n",
    "def mse(t1, t2):\n",
    "    diff = t1 - t2\n",
    "    return torch.sum(diff * diff) / diff.numel()\n",
    "    # .numel() - number of elements, 10 in our case\n",
    "\n",
    "# compute loss\n",
    "loss = mse(preds, targets)\n",
    "print(loss)\n",
    "\n",
    "# interpretation\n",
    "print(\"On average, each element in the prediction differs from the actual target by {:.2f}\".format(loss.sqrt()))"
   ]
  },
  {
   "cell_type": "code",
   "execution_count": null,
   "metadata": {},
   "outputs": [],
   "source": []
  },
  {
   "cell_type": "code",
   "execution_count": 5,
   "metadata": {},
   "outputs": [
    {
     "output_type": "stream",
     "name": "stdout",
     "text": [
      "tensor(9837.6797, grad_fn=<DivBackward0>)\n"
     ]
    }
   ],
   "source": [
    "# Gradient Descent\n",
    "# compute gradients\n",
    "loss.backward() \n",
    "\n",
    "# set learning rate \n",
    "alpha = 1e-5\n",
    "\n",
    "# updating weights and biases\n",
    "with torch.no_grad(): # do not track, calculate, or modify gradients while updating w & b\n",
    "    w -= w.grad * alpha\n",
    "    b -= b.grad * alpha\n",
    "    w.grad.zero_()\n",
    "    b.grad.zero_()\n",
    "\n",
    "# checking the result\n",
    "preds = model(inputs)\n",
    "loss = mse(preds, targets)\n",
    "print(loss)"
   ]
  },
  {
   "cell_type": "code",
   "execution_count": null,
   "metadata": {},
   "outputs": [],
   "source": []
  },
  {
   "cell_type": "markdown",
   "metadata": {},
   "source": [
    "Linear Regression With Gradient Descents Algorithm\n",
    "\n",
    "1. Generate predictions\n",
    "\n",
    "2. Calculate the loss\n",
    "\n",
    "3. Compute gradients w.r.t the weights and biases\n",
    "\n",
    "4. Adjust the weights by subtracting a small quantity proportional to the gradient\n",
    "\n",
    "5. Reset the gradients to zero\n",
    "\n",
    "6. Go back to step 1, repeat until certain accuracy is reached."
   ]
  },
  {
   "cell_type": "code",
   "execution_count": 6,
   "metadata": {},
   "outputs": [
    {
     "output_type": "stream",
     "name": "stdout",
     "text": [
      "loss values:  tensor(154.8083, grad_fn=<DivBackward0>)\nPredictions: \n tensor([[ 58.5088,  71.6175],\n        [ 78.1416, 112.3039],\n        [125.7753, 104.3953],\n        [ 29.4316,  45.9205],\n        [ 89.7641, 134.1360]], grad_fn=<AddBackward0>)\n"
     ]
    }
   ],
   "source": [
    "# Algorithm Implementation\n",
    "# train for 300 epochs\n",
    "for i in range(300):\n",
    "    preds = model(inputs)\n",
    "    loss = mse(preds, targets)\n",
    "    loss.backward()\n",
    "    with torch.no_grad():\n",
    "        w -= w.grad * 1e-5\n",
    "        b -= b.grad * 1e-5\n",
    "        w.grad.zero_()\n",
    "        b.grad.zero_()\n",
    "\n",
    "# calculate loss\n",
    "preds = model(inputs)\n",
    "loss = mse(preds, targets)\n",
    "print(\"loss values: \", loss)\n",
    "\n",
    "# predictions\n",
    "print(\"Predictions: \\n\", preds)"
   ]
  },
  {
   "cell_type": "code",
   "execution_count": null,
   "metadata": {},
   "outputs": [],
   "source": []
  },
  {
   "cell_type": "code",
   "execution_count": null,
   "metadata": {},
   "outputs": [],
   "source": []
  },
  {
   "cell_type": "code",
   "execution_count": null,
   "metadata": {},
   "outputs": [],
   "source": [
    "# Linear Regression Using PyTorch"
   ]
  },
  {
   "cell_type": "code",
   "execution_count": 12,
   "metadata": {},
   "outputs": [
    {
     "output_type": "stream",
     "name": "stdout",
     "text": [
      "dimentions of inputs: torch.Size([15, 3]),\ndimentions of targets: torch.Size([15, 2])\n"
     ]
    }
   ],
   "source": [
    "# Input (temp, rainfall, humidity)\n",
    "inputs = np.array([[73, 67, 43], [91, 88, 64], [87, 134, 58], [102, 43, 37], [69, 96, 70], \n",
    "                   [74, 66, 43], [91, 87, 65], [88, 134, 59], [101, 44, 37], [68, 96, 71], \n",
    "                   [73, 66, 44], [92, 87, 64], [87, 135, 57], [103, 43, 36], [68, 97, 70]], dtype='float32')\n",
    "\n",
    "# Targets (apples, oranges)\n",
    "targets = np.array([[56, 70], [81, 101], [119, 133], [22, 37], [103, 119],\n",
    "                    [57, 69], [80, 102], [118, 132], [21, 38], [104, 118], \n",
    "                    [57, 69], [82, 100], [118, 134], [20, 38], [102, 120]], dtype='float32')\n",
    "\n",
    "inputs = torch.from_numpy(inputs)\n",
    "targets = torch.from_numpy(targets)\n",
    "print(\"dimentions of inputs: {},\\ndimentions of targets: {}\".format(inputs.shape, targets.shape))"
   ]
  },
  {
   "cell_type": "code",
   "execution_count": null,
   "metadata": {},
   "outputs": [],
   "source": []
  },
  {
   "cell_type": "code",
   "execution_count": 22,
   "metadata": {},
   "outputs": [],
   "source": [
    "# Create Dataset and Dataloader\n",
    "from torch.utils.data import TensorDataset\n",
    "from torch.utils.data import DataLoader"
   ]
  },
  {
   "cell_type": "code",
   "execution_count": 31,
   "metadata": {},
   "outputs": [
    {
     "output_type": "stream",
     "name": "stdout",
     "text": [
      "first 3 elements of the dataset: \ntensor([[ 73.,  67.,  43.],\n        [ 91.,  88.,  64.],\n        [ 87., 134.,  58.]]), \ntensor([[ 56.,  70.],\n        [ 81., 101.],\n        [119., 133.]])\n\ndataloader contains:\ntensor([[ 87., 135.,  57.],\n        [101.,  44.,  37.],\n        [ 91.,  88.,  64.],\n        [ 73.,  66.,  44.],\n        [ 87., 134.,  58.]])\ntensor([[118., 134.],\n        [ 21.,  38.],\n        [ 81., 101.],\n        [ 57.,  69.],\n        [119., 133.]])\n"
     ]
    }
   ],
   "source": [
    "# define dataset\n",
    "train_ds = TensorDataset(inputs, targets)\n",
    "print(\"first 3 elements of the dataset: \\n{}, \\n{}\\n\".format(train_ds[0:3][0],train_ds[0:3][1]))\n",
    "\n",
    "# define data loader\n",
    "batch_size = 5\n",
    "train_dl = DataLoader(train_ds, batch_size, shuffle=True)\n",
    "\n",
    "print(\"dataloader contains:\")\n",
    "for xb, yb in train_dl:\n",
    "    print(xb)\n",
    "    print(yb)\n",
    "    break"
   ]
  },
  {
   "cell_type": "code",
   "execution_count": null,
   "metadata": {},
   "outputs": [],
   "source": []
  },
  {
   "cell_type": "code",
   "execution_count": 40,
   "metadata": {},
   "outputs": [],
   "source": [
    "# Import Linear Model, Loss Function & Optimizer\n",
    "import torch.nn as nn\n",
    "import torch.nn.functional as F"
   ]
  },
  {
   "cell_type": "code",
   "execution_count": 43,
   "metadata": {},
   "outputs": [],
   "source": [
    "# define model (random w & b)\n",
    "model = nn.Linear(3, 2)\n",
    "# print(list(model.parameters()))\n",
    "# print(\"\\n\")\n",
    "\n",
    "# Generate predictions\n",
    "preds = model(inputs)\n",
    "\n",
    "# define loss function\n",
    "loss_fn = F.mse_loss\n",
    "loss = loss_fn(model(inputs), targets)\n",
    "\n",
    "# define optimizer (gradient descend)\n",
    "opt = torch.optim.SGD(model.parameters(), lr=1e-5)"
   ]
  },
  {
   "cell_type": "code",
   "execution_count": null,
   "metadata": {},
   "outputs": [],
   "source": []
  },
  {
   "cell_type": "code",
   "execution_count": 44,
   "metadata": {},
   "outputs": [
    {
     "output_type": "stream",
     "name": "stdout",
     "text": [
      "Epoch [10/100], Loss: 992.8507\nEpoch [20/100], Loss: 543.5728\nEpoch [30/100], Loss: 160.7798\nEpoch [40/100], Loss: 130.8488\nEpoch [50/100], Loss: 369.6737\nEpoch [60/100], Loss: 220.1362\nEpoch [70/100], Loss: 172.9101\nEpoch [80/100], Loss: 92.8416\nEpoch [90/100], Loss: 45.9343\nEpoch [100/100], Loss: 83.1875\n"
     ]
    }
   ],
   "source": [
    "# Applying The Algorithm\n",
    "def fit(num_epochs, model, loss_fn, opt, train_dl):\n",
    "    for epoch in range(num_epochs):\n",
    "        for xb,yb in train_dl: # train for batches of data\n",
    "            pred = model(xb)\n",
    "            loss = loss_fn(pred, yb)\n",
    "            loss.backward()\n",
    "            opt.step() # updating gradients\n",
    "            opt.zero_grad() # clearing gradients\n",
    "        \n",
    "        # Print the progress\n",
    "        if (epoch+1) % 10 == 0:\n",
    "            print('Epoch [{}/{}], Loss: {:.4f}'.format(epoch+1, num_epochs, loss.item()))\n",
    "\n",
    "fit(100, model, loss_fn, opt, train_dl)"
   ]
  },
  {
   "cell_type": "code",
   "execution_count": null,
   "metadata": {},
   "outputs": [],
   "source": []
  },
  {
   "cell_type": "code",
   "execution_count": 45,
   "metadata": {},
   "outputs": [
    {
     "output_type": "execute_result",
     "data": {
      "text/plain": [
       "tensor([[55.8828, 68.8207]], grad_fn=<AddmmBackward>)"
      ]
     },
     "metadata": {},
     "execution_count": 45
    }
   ],
   "source": [
    "# generate a prediction with our model\n",
    "model(torch.tensor([[75, 63, 44.]]))"
   ]
  }
 ],
 "metadata": {
  "kernelspec": {
   "display_name": "Python 3",
   "language": "python",
   "name": "python3"
  },
  "language_info": {
   "codemirror_mode": {
    "name": "ipython",
    "version": 3
   },
   "file_extension": ".py",
   "mimetype": "text/x-python",
   "name": "python",
   "nbconvert_exporter": "python",
   "pygments_lexer": "ipython3",
   "version": "3.8.6-final"
  }
 },
 "nbformat": 4,
 "nbformat_minor": 2
}