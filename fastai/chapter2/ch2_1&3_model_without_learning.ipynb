{
 "metadata": {
  "language_info": {
   "codemirror_mode": {
    "name": "ipython",
    "version": 3
   },
   "file_extension": ".py",
   "mimetype": "text/x-python",
   "name": "python",
   "nbconvert_exporter": "python",
   "pygments_lexer": "ipython3",
   "version": "3.8.6-final"
  },
  "orig_nbformat": 2,
  "kernelspec": {
   "name": "Python 3.8.6 64-bit",
   "display_name": "Python 3.8.6 64-bit",
   "metadata": {
    "interpreter": {
     "hash": "06389d2601312ad42d345986d536958551643a1448f9b4b2cf64e6539f194870"
    }
   }
  }
 },
 "nbformat": 4,
 "nbformat_minor": 2,
 "cells": [
  {
   "cell_type": "code",
   "execution_count": 1,
   "metadata": {},
   "outputs": [],
   "source": [
    "from fastai.vision.all import *"
   ]
  },
  {
   "cell_type": "code",
   "execution_count": 2,
   "metadata": {},
   "outputs": [
    {
     "output_type": "execute_result",
     "data": {
      "text/plain": [
       "(#3) [Path('C:/Users/kulik/.fastai/data/mnist_sample/labels.csv'),Path('C:/Users/kulik/.fastai/data/mnist_sample/train'),Path('C:/Users/kulik/.fastai/data/mnist_sample/valid')]"
      ]
     },
     "metadata": {},
     "execution_count": 2
    }
   ],
   "source": [
    "path = untar_data(URLs.MNIST_SAMPLE) #path to a local MNIST library\n",
    "#(path/'train').ls() \n",
    "(path).ls() #path contains mnist_sample folder, which has a csv file, train and valid folders"
   ]
  },
  {
   "cell_type": "code",
   "execution_count": 3,
   "metadata": {},
   "outputs": [],
   "source": [
    "threes = (path/'train'/'3').ls().sorted()\n",
    "sevens = (path/'train'/'7').ls().sorted()\n",
    "#threes"
   ]
  },
  {
   "cell_type": "code",
   "execution_count": 4,
   "metadata": {},
   "outputs": [
    {
     "output_type": "execute_result",
     "data": {
      "text/plain": [
       "<PIL.PngImagePlugin.PngImageFile image mode=L size=28x28 at 0x21A210C31C0>"
      ],
      "image/png": "[encoded data removed]"
     },
     "metadata": {},
     "execution_count": 4
    }
   ],
   "source": [
    "#output an image of 3\n",
    "img3_path = threes[6]\n",
    "img3 = Image.open(img3_path)\n",
    "\n",
    "img3"
   ]
  },
  {
   "cell_type": "code",
   "execution_count": null,
   "metadata": {},
   "outputs": [],
   "source": []
  },
  {
   "cell_type": "code",
   "execution_count": 5,
   "metadata": {},
   "outputs": [
    {
     "output_type": "execute_result",
     "data": {
      "text/plain": [
       "<pandas.io.formats.style.Styler at 0x21a2209e2b0>"
      ],
      "text/html": "<style  type=\"text/css\" >\n#T_f271965e_1c25_11eb_82be_04d4c4e83fa3row0_col0,#T_f271965e_1c25_11eb_82be_04d4c4e83fa3row0_col1,#T_f271965e_1c25_11eb_82be_04d4c4e83fa3row0_col2,#T_f271965e_1c25_11eb_82be_04d4c4e83fa3row0_col3,#T_f271965e_1c25_11eb_82be_04d4c4e83fa3row0_col4,#T_f271965e_1c25_11eb_82be_04d4c4e83fa3row0_col5,#T_f271965e_1c25_11eb_82be_04d4c4e83fa3row0_col6,#T_f271965e_1c25_11eb_82be_04d4c4e83fa3row0_col7,#T_f271965e_1c25_11eb_82be_04d4c4e83fa3row0_col8,#T_f271965e_1c25_11eb_82be_04d4c4e83fa3row0_col9,#T_f271965e_1c25_11eb_82be_04d4c4e83fa3row0_col10,#T_f271965e_1c25_11eb_82be_04d4c4e83fa3row0_col11,#T_f271965e_1c25_11eb_82be_04d4c4e83fa3row0_col12,#T_f271965e_1c25_11eb_82be_04d4c4e83fa3row0_col13,#T_f271965e_1c25_11eb_82be_04d4c4e83fa3row0_col14,#T_f271965e_1c25_11eb_82be_04d4c4e83fa3row0_col15,#T_f271965e_1c25_11eb_82be_04d4c4e83fa3row0_col16,#T_f271965e_1c25_11eb_82be_04d4c4e83fa3row0_col17,#T_f271965e_1c25_11eb_82be_04d4c4e83fa3row1_col0,#T_f271965e_1c25_11eb_82be_04d4c4e83fa3row1_col1,#T_f271965e_1c25_11eb_82be_04d4c4e83fa3row1_col2,#T_f271965e_1c25_11eb_82be_04d4c4e83fa3row1_col3,#T_f271965e_1c25_11eb_82be_04d4c4e83fa3row1_col4,#T_f271965e_1c25_11eb_82be_04d4c4e83fa3row1_col14,#T_f271965e_1c25_11eb_82be_04d4c4e83fa3row1_col15,#T_f271965e_1c25_11eb_82be_04d4c4e83fa3row1_col16,#T_f271965e_1c25_11eb_82be_04d4c4e83fa3row1_col17,#T_f271965e_1c25_11eb_82be_04d4c4e83fa3row2_col0,#T_f271965e_1c25_11eb_82be_04d4c4e83fa3row2_col15,#T_f271965e_1c25_11eb_82be_04d4c4e83fa3row2_col16,#T_f271965e_1c25_11eb_82be_04d4c4e83fa3row2_col17,#T_f271965e_1c25_11eb_82be_04d4c4e83fa3row3_col0,#T_f271965e_1c25_11eb_82be_04d4c4e83fa3row3_col15,#T_f271965e_1c25_11eb_82be_04d4c4e83fa3row3_col16,#T_f271965e_1c25_11eb_82be_04d4c4e83fa3row3_col17,#T_f271965e_1c25_11eb_82be_04d4c4e83fa3row4_col0,#T_f271965e_1c25_11eb_82be_04d4c4e83fa3row4_col6,#T_f271965e_1c25_11eb_82be_04d4c4e83fa3row4_col7,#T_f271965e_1c25_11eb_82be_04d4c4e83fa3row4_col16,#T_f271965e_1c25_11eb_82be_04d4c4e83fa3row4_col17,#T_f271965e_1c25_11eb_82be_04d4c4e83fa3row5_col0,#T_f271965e_1c25_11eb_82be_04d4c4e83fa3row5_col3,#T_f271965e_1c25_11eb_82be_04d4c4e83fa3row5_col4,#T_f271965e_1c25_11eb_82be_04d4c4e83fa3row5_col5,#T_f271965e_1c25_11eb_82be_04d4c4e83fa3row5_col6,#T_f271965e_1c25_11eb_82be_04d4c4e83fa3row5_col7,#T_f271965e_1c25_11eb_82be_04d4c4e83fa3row5_col8,#T_f271965e_1c25_11eb_82be_04d4c4e83fa3row5_col9,#T_f271965e_1c25_11eb_82be_04d4c4e83fa3row5_col10,#T_f271965e_1c25_11eb_82be_04d4c4e83fa3row5_col16,#T_f271965e_1c25_11eb_82be_04d4c4e83fa3row5_col17,#T_f271965e_1c25_11eb_82be_04d4c4e83fa3row6_col0,#T_f271965e_1c25_11eb_82be_04d4c4e83fa3row6_col1,#T_f271965e_1c25_11eb_82be_04d4c4e83fa3row6_col2,#T_f271965e_1c25_11eb_82be_04d4c4e83fa3row6_col3,#T_f271965e_1c25_11eb_82be_04d4c4e83fa3row6_col4,#T_f271965e_1c25_11eb_82be_04d4c4e83fa3row6_col5,#T_f271965e_1c25_11eb_82be_04d4c4e83fa3row6_col6,#T_f271965e_1c25_11eb_82be_04d4c4e83fa3row6_col7,#T_f271965e_1c25_11eb_82be_04d4c4e83fa3row6_col8,#T_f271965e_1c25_11eb_82be_04d4c4e83fa3row6_col9,#T_f271965e_1c25_11eb_82be_04d4c4e83fa3row6_col16,#T_f271965e_1c25_11eb_82be_04d4c4e83fa3row6_col17,#T_f271965e_1c25_11eb_82be_04d4c4e83fa3row7_col0,#T_f271965e_1c25_11eb_82be_04d4c4e83fa3row7_col1,#T_f271965e_1c25_11eb_82be_04d4c4e83fa3row7_col2,#T_f271965e_1c25_11eb_82be_04d4c4e83fa3row7_col3,#T_f271965e_1c25_11eb_82be_04d4c4e83fa3row7_col4,#T_f271965e_1c25_11eb_82be_04d4c4e83fa3row7_col5,#T_f271965e_1c25_11eb_82be_04d4c4e83fa3row7_col6,#T_f271965e_1c25_11eb_82be_04d4c4e83fa3row7_col7,#T_f271965e_1c25_11eb_82be_04d4c4e83fa3row7_col8,#T_f271965e_1c25_11eb_82be_04d4c4e83fa3row7_col15,#T_f271965e_1c25_11eb_82be_04d4c4e83fa3row7_col16,#T_f271965e_1c25_11eb_82be_04d4c4e83fa3row7_col17,#T_f271965e_1c25_11eb_82be_04d4c4e83fa3row8_col0,#T_f271965e_1c25_11eb_82be_04d4c4e83fa3row8_col1,#T_f271965e_1c25_11eb_82be_04d4c4e83fa3row8_col2,#T_f271965e_1c25_11eb_82be_04d4c4e83fa3row8_col3,#T_f271965e_1c25_11eb_82be_04d4c4e83fa3row8_col4,#T_f271965e_1c25_11eb_82be_04d4c4e83fa3row8_col5,#T_f271965e_1c25_11eb_82be_04d4c4e83fa3row8_col15,#T_f271965e_1c25_11eb_82be_04d4c4e83fa3row8_col16,#T_f271965e_1c25_11eb_82be_04d4c4e83fa3row8_col17,#T_f271965e_1c25_11eb_82be_04d4c4e83fa3row9_col0,#T_f271965e_1c25_11eb_82be_04d4c4e83fa3row9_col1,#T_f271965e_1c25_11eb_82be_04d4c4e83fa3row9_col2,#T_f271965e_1c25_11eb_82be_04d4c4e83fa3row9_col3,#T_f271965e_1c25_11eb_82be_04d4c4e83fa3row9_col15,#T_f271965e_1c25_11eb_82be_04d4c4e83fa3row9_col16,#T_f271965e_1c25_11eb_82be_04d4c4e83fa3row9_col17,#T_f271965e_1c25_11eb_82be_04d4c4e83fa3row10_col0,#T_f271965e_1c25_11eb_82be_04d4c4e83fa3row10_col1,#T_f271965e_1c25_11eb_82be_04d4c4e83fa3row10_col2,#T_f271965e_1c25_11eb_82be_04d4c4e83fa3row10_col3,#T_f271965e_1c25_11eb_82be_04d4c4e83fa3row10_col16,#T_f271965e_1c25_11eb_82be_04d4c4e83fa3row10_col17{\n            font-size:  6pt;\n            background-color:  #ffffff;\n            color:  #000000;\n        }#T_f271965e_1c25_11eb_82be_04d4c4e83fa3row1_col5{\n            font-size:  6pt;\n            background-color:  #d9d9d9;\n            color:  #000000;\n        }#T_f271965e_1c25_11eb_82be_04d4c4e83fa3row1_col6,#T_f271965e_1c25_11eb_82be_04d4c4e83fa3row3_col6{\n            font-size:  6pt;\n            background-color:  #5f5f5f;\n            color:  #f1f1f1;\n        }#T_f271965e_1c25_11eb_82be_04d4c4e83fa3row1_col7,#T_f271965e_1c25_11eb_82be_04d4c4e83fa3row1_col8,#T_f271965e_1c25_11eb_82be_04d4c4e83fa3row2_col5,#T_f271965e_1c25_11eb_82be_04d4c4e83fa3row2_col6,#T_f271965e_1c25_11eb_82be_04d4c4e83fa3row2_col9,#T_f271965e_1c25_11eb_82be_04d4c4e83fa3row2_col10,#T_f271965e_1c25_11eb_82be_04d4c4e83fa3row2_col11,#T_f271965e_1c25_11eb_82be_04d4c4e83fa3row2_col12,#T_f271965e_1c25_11eb_82be_04d4c4e83fa3row3_col1,#T_f271965e_1c25_11eb_82be_04d4c4e83fa3row3_col2,#T_f271965e_1c25_11eb_82be_04d4c4e83fa3row3_col3,#T_f271965e_1c25_11eb_82be_04d4c4e83fa3row3_col4,#T_f271965e_1c25_11eb_82be_04d4c4e83fa3row3_col9,#T_f271965e_1c25_11eb_82be_04d4c4e83fa3row3_col10,#T_f271965e_1c25_11eb_82be_04d4c4e83fa3row3_col11,#T_f271965e_1c25_11eb_82be_04d4c4e83fa3row3_col12,#T_f271965e_1c25_11eb_82be_04d4c4e83fa3row3_col13,#T_f271965e_1c25_11eb_82be_04d4c4e83fa3row4_col12,#T_f271965e_1c25_11eb_82be_04d4c4e83fa3row4_col13,#T_f271965e_1c25_11eb_82be_04d4c4e83fa3row5_col12,#T_f271965e_1c25_11eb_82be_04d4c4e83fa3row5_col13,#T_f271965e_1c25_11eb_82be_04d4c4e83fa3row5_col14,#T_f271965e_1c25_11eb_82be_04d4c4e83fa3row5_col15,#T_f271965e_1c25_11eb_82be_04d4c4e83fa3row6_col12,#T_f271965e_1c25_11eb_82be_04d4c4e83fa3row6_col13,#T_f271965e_1c25_11eb_82be_04d4c4e83fa3row7_col11,#T_f271965e_1c25_11eb_82be_04d4c4e83fa3row7_col12,#T_f271965e_1c25_11eb_82be_04d4c4e83fa3row7_col13,#T_f271965e_1c25_11eb_82be_04d4c4e83fa3row8_col10,#T_f271965e_1c25_11eb_82be_04d4c4e83fa3row8_col11,#T_f271965e_1c25_11eb_82be_04d4c4e83fa3row8_col12,#T_f271965e_1c25_11eb_82be_04d4c4e83fa3row9_col6,#T_f271965e_1c25_11eb_82be_04d4c4e83fa3row9_col9,#T_f271965e_1c25_11eb_82be_04d4c4e83fa3row9_col10,#T_f271965e_1c25_11eb_82be_04d4c4e83fa3row9_col11,#T_f271965e_1c25_11eb_82be_04d4c4e83fa3row9_col12,#T_f271965e_1c25_11eb_82be_04d4c4e83fa3row10_col6,#T_f271965e_1c25_11eb_82be_04d4c4e83fa3row10_col12,#T_f271965e_1c25_11eb_82be_04d4c4e83fa3row10_col13{\n            font-size:  6pt;\n            background-color:  #000000;\n            color:  #f1f1f1;\n        }#T_f271965e_1c25_11eb_82be_04d4c4e83fa3row1_col9{\n            font-size:  6pt;\n            background-color:  #797979;\n            color:  #000000;\n        }#T_f271965e_1c25_11eb_82be_04d4c4e83fa3row1_col10,#T_f271965e_1c25_11eb_82be_04d4c4e83fa3row1_col11,#T_f271965e_1c25_11eb_82be_04d4c4e83fa3row1_col12{\n            font-size:  6pt;\n            background-color:  #a0a0a0;\n            color:  #000000;\n        }#T_f271965e_1c25_11eb_82be_04d4c4e83fa3row1_col13{\n            font-size:  6pt;\n            background-color:  #fcfcfc;\n            color:  #000000;\n        }#T_f271965e_1c25_11eb_82be_04d4c4e83fa3row2_col1{\n            font-size:  6pt;\n            background-color:  #bebebe;\n            color:  #000000;\n        }#T_f271965e_1c25_11eb_82be_04d4c4e83fa3row2_col2,#T_f271965e_1c25_11eb_82be_04d4c4e83fa3row2_col3,#T_f271965e_1c25_11eb_82be_04d4c4e83fa3row2_col4{\n            font-size:  6pt;\n            background-color:  #161616;\n            color:  #f1f1f1;\n        }#T_f271965e_1c25_11eb_82be_04d4c4e83fa3row2_col7,#T_f271965e_1c25_11eb_82be_04d4c4e83fa3row8_col9,#T_f271965e_1c25_11eb_82be_04d4c4e83fa3row9_col7,#T_f271965e_1c25_11eb_82be_04d4c4e83fa3row10_col7{\n            font-size:  6pt;\n            background-color:  #010101;\n            color:  #f1f1f1;\n        }#T_f271965e_1c25_11eb_82be_04d4c4e83fa3row2_col8,#T_f271965e_1c25_11eb_82be_04d4c4e83fa3row9_col8,#T_f271965e_1c25_11eb_82be_04d4c4e83fa3row10_col8{\n            font-size:  6pt;\n            background-color:  #020202;\n            color:  #f1f1f1;\n        }#T_f271965e_1c25_11eb_82be_04d4c4e83fa3row2_col13{\n            font-size:  6pt;\n            background-color:  #5d5d5d;\n            color:  #f1f1f1;\n        }#T_f271965e_1c25_11eb_82be_04d4c4e83fa3row2_col14{\n            font-size:  6pt;\n            background-color:  #d7d7d7;\n            color:  #000000;\n        }#T_f271965e_1c25_11eb_82be_04d4c4e83fa3row3_col5{\n            font-size:  6pt;\n            background-color:  #242424;\n            color:  #f1f1f1;\n        }#T_f271965e_1c25_11eb_82be_04d4c4e83fa3row3_col7{\n            font-size:  6pt;\n            background-color:  #606060;\n            color:  #f1f1f1;\n        }#T_f271965e_1c25_11eb_82be_04d4c4e83fa3row3_col8{\n            font-size:  6pt;\n            background-color:  #131313;\n            color:  #f1f1f1;\n        }#T_f271965e_1c25_11eb_82be_04d4c4e83fa3row3_col14,#T_f271965e_1c25_11eb_82be_04d4c4e83fa3row7_col14{\n            font-size:  6pt;\n            background-color:  #666666;\n            color:  #f1f1f1;\n        }#T_f271965e_1c25_11eb_82be_04d4c4e83fa3row4_col1{\n            font-size:  6pt;\n            background-color:  #828282;\n            color:  #000000;\n        }#T_f271965e_1c25_11eb_82be_04d4c4e83fa3row4_col2{\n            font-size:  6pt;\n            background-color:  #5b5b5b;\n            color:  #f1f1f1;\n        }#T_f271965e_1c25_11eb_82be_04d4c4e83fa3row4_col3,#T_f271965e_1c25_11eb_82be_04d4c4e83fa3row4_col4,#T_f271965e_1c25_11eb_82be_04d4c4e83fa3row4_col9{\n            font-size:  6pt;\n            background-color:  #dbdbdb;\n            color:  #000000;\n        }#T_f271965e_1c25_11eb_82be_04d4c4e83fa3row4_col5{\n            font-size:  6pt;\n            background-color:  #f0f0f0;\n            color:  #000000;\n        }#T_f271965e_1c25_11eb_82be_04d4c4e83fa3row4_col8{\n            font-size:  6pt;\n            background-color:  #e3e3e3;\n            color:  #000000;\n        }#T_f271965e_1c25_11eb_82be_04d4c4e83fa3row4_col10,#T_f271965e_1c25_11eb_82be_04d4c4e83fa3row6_col11{\n            font-size:  6pt;\n            background-color:  #7c7c7c;\n            color:  #000000;\n        }#T_f271965e_1c25_11eb_82be_04d4c4e83fa3row4_col11{\n            font-size:  6pt;\n            background-color:  #1c1c1c;\n            color:  #f1f1f1;\n        }#T_f271965e_1c25_11eb_82be_04d4c4e83fa3row4_col14{\n            font-size:  6pt;\n            background-color:  #171717;\n            color:  #f1f1f1;\n        }#T_f271965e_1c25_11eb_82be_04d4c4e83fa3row4_col15{\n            font-size:  6pt;\n            background-color:  #4e4e4e;\n            color:  #f1f1f1;\n        }#T_f271965e_1c25_11eb_82be_04d4c4e83fa3row5_col1{\n            font-size:  6pt;\n            background-color:  #efefef;\n            color:  #000000;\n        }#T_f271965e_1c25_11eb_82be_04d4c4e83fa3row5_col2{\n            font-size:  6pt;\n            background-color:  #f6f6f6;\n            color:  #000000;\n        }#T_f271965e_1c25_11eb_82be_04d4c4e83fa3row5_col11{\n            font-size:  6pt;\n            background-color:  #838383;\n            color:  #000000;\n        }#T_f271965e_1c25_11eb_82be_04d4c4e83fa3row6_col10{\n            font-size:  6pt;\n            background-color:  #fbfbfb;\n            color:  #000000;\n        }#T_f271965e_1c25_11eb_82be_04d4c4e83fa3row6_col14{\n            font-size:  6pt;\n            background-color:  #3d3d3d;\n            color:  #f1f1f1;\n        }#T_f271965e_1c25_11eb_82be_04d4c4e83fa3row6_col15{\n            font-size:  6pt;\n            background-color:  #b3b3b3;\n            color:  #000000;\n        }#T_f271965e_1c25_11eb_82be_04d4c4e83fa3row7_col9{\n            font-size:  6pt;\n            background-color:  #bababa;\n            color:  #000000;\n        }#T_f271965e_1c25_11eb_82be_04d4c4e83fa3row7_col10{\n            font-size:  6pt;\n            background-color:  #353535;\n            color:  #f1f1f1;\n        }#T_f271965e_1c25_11eb_82be_04d4c4e83fa3row8_col6{\n            font-size:  6pt;\n            background-color:  #adadad;\n            color:  #000000;\n        }#T_f271965e_1c25_11eb_82be_04d4c4e83fa3row8_col7{\n            font-size:  6pt;\n            background-color:  #181818;\n            color:  #f1f1f1;\n        }#T_f271965e_1c25_11eb_82be_04d4c4e83fa3row8_col8{\n            font-size:  6pt;\n            background-color:  #080808;\n            color:  #f1f1f1;\n        }#T_f271965e_1c25_11eb_82be_04d4c4e83fa3row8_col13{\n            font-size:  6pt;\n            background-color:  #383838;\n            color:  #f1f1f1;\n        }#T_f271965e_1c25_11eb_82be_04d4c4e83fa3row8_col14{\n            font-size:  6pt;\n            background-color:  #f5f5f5;\n            color:  #000000;\n        }#T_f271965e_1c25_11eb_82be_04d4c4e83fa3row9_col4{\n            font-size:  6pt;\n            background-color:  #fdfdfd;\n            color:  #000000;\n        }#T_f271965e_1c25_11eb_82be_04d4c4e83fa3row9_col5{\n            font-size:  6pt;\n            background-color:  #6b6b6b;\n            color:  #000000;\n        }#T_f271965e_1c25_11eb_82be_04d4c4e83fa3row9_col13{\n            font-size:  6pt;\n            background-color:  #555555;\n            color:  #f1f1f1;\n        }#T_f271965e_1c25_11eb_82be_04d4c4e83fa3row9_col14{\n            font-size:  6pt;\n            background-color:  #f9f9f9;\n            color:  #000000;\n        }#T_f271965e_1c25_11eb_82be_04d4c4e83fa3row10_col4{\n            font-size:  6pt;\n            background-color:  #fafafa;\n            color:  #000000;\n        }#T_f271965e_1c25_11eb_82be_04d4c4e83fa3row10_col5{\n            font-size:  6pt;\n            background-color:  #1d1d1d;\n            color:  #f1f1f1;\n        }#T_f271965e_1c25_11eb_82be_04d4c4e83fa3row10_col9{\n            font-size:  6pt;\n            background-color:  #0f0f0f;\n            color:  #f1f1f1;\n        }#T_f271965e_1c25_11eb_82be_04d4c4e83fa3row10_col10{\n            font-size:  6pt;\n            background-color:  #575757;\n            color:  #f1f1f1;\n        }#T_f271965e_1c25_11eb_82be_04d4c4e83fa3row10_col11{\n            font-size:  6pt;\n            background-color:  #222222;\n            color:  #f1f1f1;\n        }#T_f271965e_1c25_11eb_82be_04d4c4e83fa3row10_col14{\n            font-size:  6pt;\n            background-color:  #6a6a6a;\n            color:  #000000;\n        }#T_f271965e_1c25_11eb_82be_04d4c4e83fa3row10_col15{\n            font-size:  6pt;\n            background-color:  #d3d3d3;\n            color:  #000000;\n        }</style><table id=\"T_f271965e_1c25_11eb_82be_04d4c4e83fa3\" ><thead>    <tr>        <th class=\"blank level0\" ></th>        <th class=\"col_heading level0 col0\" >0</th>        <th class=\"col_heading level0 col1\" >1</th>        <th class=\"col_heading level0 col2\" >2</th>        <th class=\"col_heading level0 col3\" >3</th>        <th class=\"col_heading level0 col4\" >4</th>        <th class=\"col_heading level0 col5\" >5</th>        <th class=\"col_heading level0 col6\" >6</th>        <th class=\"col_heading level0 col7\" >7</th>        <th class=\"col_heading level0 col8\" >8</th>        <th class=\"col_heading level0 col9\" >9</th>        <th class=\"col_heading level0 col10\" >10</th>        <th class=\"col_heading level0 col11\" >11</th>        <th class=\"col_heading level0 col12\" >12</th>        <th class=\"col_heading level0 col13\" >13</th>        <th class=\"col_heading level0 col14\" >14</th>        <th class=\"col_heading level0 col15\" >15</th>        <th class=\"col_heading level0 col16\" >16</th>        <th class=\"col_heading level0 col17\" >17</th>    </tr></thead><tbody>\n                <tr>\n                        <th id=\"T_f271965e_1c25_11eb_82be_04d4c4e83fa3level0_row0\" class=\"row_heading level0 row0\" >0</th>\n                        <td id=\"T_f271965e_1c25_11eb_82be_04d4c4e83fa3row0_col0\" class=\"data row0 col0\" >0</td>\n                        <td id=\"T_f271965e_1c25_11eb_82be_04d4c4e83fa3row0_col1\" class=\"data row0 col1\" >0</td>\n                        <td id=\"T_f271965e_1c25_11eb_82be_04d4c4e83fa3row0_col2\" class=\"data row0 col2\" >0</td>\n                        <td id=\"T_f271965e_1c25_11eb_82be_04d4c4e83fa3row0_col3\" class=\"data row0 col3\" >0</td>\n                        <td id=\"T_f271965e_1c25_11eb_82be_04d4c4e83fa3row0_col4\" class=\"data row0 col4\" >0</td>\n                        <td id=\"T_f271965e_1c25_11eb_82be_04d4c4e83fa3row0_col5\" class=\"data row0 col5\" >0</td>\n                        <td id=\"T_f271965e_1c25_11eb_82be_04d4c4e83fa3row0_col6\" class=\"data row0 col6\" >0</td>\n                        <td id=\"T_f271965e_1c25_11eb_82be_04d4c4e83fa3row0_col7\" class=\"data row0 col7\" >0</td>\n                        <td id=\"T_f271965e_1c25_11eb_82be_04d4c4e83fa3row0_col8\" class=\"data row0 col8\" >0</td>\n                        <td id=\"T_f271965e_1c25_11eb_82be_04d4c4e83fa3row0_col9\" class=\"data row0 col9\" >0</td>\n                        <td id=\"T_f271965e_1c25_11eb_82be_04d4c4e83fa3row0_col10\" class=\"data row0 col10\" >0</td>\n                        <td id=\"T_f271965e_1c25_11eb_82be_04d4c4e83fa3row0_col11\" class=\"data row0 col11\" >0</td>\n                        <td id=\"T_f271965e_1c25_11eb_82be_04d4c4e83fa3row0_col12\" class=\"data row0 col12\" >0</td>\n                        <td id=\"T_f271965e_1c25_11eb_82be_04d4c4e83fa3row0_col13\" class=\"data row0 col13\" >0</td>\n                        <td id=\"T_f271965e_1c25_11eb_82be_04d4c4e83fa3row0_col14\" class=\"data row0 col14\" >0</td>\n                        <td id=\"T_f271965e_1c25_11eb_82be_04d4c4e83fa3row0_col15\" class=\"data row0 col15\" >0</td>\n                        <td id=\"T_f271965e_1c25_11eb_82be_04d4c4e83fa3row0_col16\" class=\"data row0 col16\" >0</td>\n                        <td id=\"T_f271965e_1c25_11eb_82be_04d4c4e83fa3row0_col17\" class=\"data row0 col17\" >0</td>\n            </tr>\n            <tr>\n                        <th id=\"T_f271965e_1c25_11eb_82be_04d4c4e83fa3level0_row1\" class=\"row_heading level0 row1\" >1</th>\n                        <td id=\"T_f271965e_1c25_11eb_82be_04d4c4e83fa3row1_col0\" class=\"data row1 col0\" >0</td>\n                        <td id=\"T_f271965e_1c25_11eb_82be_04d4c4e83fa3row1_col1\" class=\"data row1 col1\" >0</td>\n                        <td id=\"T_f271965e_1c25_11eb_82be_04d4c4e83fa3row1_col2\" class=\"data row1 col2\" >0</td>\n                        <td id=\"T_f271965e_1c25_11eb_82be_04d4c4e83fa3row1_col3\" class=\"data row1 col3\" >0</td>\n                        <td id=\"T_f271965e_1c25_11eb_82be_04d4c4e83fa3row1_col4\" class=\"data row1 col4\" >0</td>\n                        <td id=\"T_f271965e_1c25_11eb_82be_04d4c4e83fa3row1_col5\" class=\"data row1 col5\" >61</td>\n                        <td id=\"T_f271965e_1c25_11eb_82be_04d4c4e83fa3row1_col6\" class=\"data row1 col6\" >177</td>\n                        <td id=\"T_f271965e_1c25_11eb_82be_04d4c4e83fa3row1_col7\" class=\"data row1 col7\" >254</td>\n                        <td id=\"T_f271965e_1c25_11eb_82be_04d4c4e83fa3row1_col8\" class=\"data row1 col8\" >255</td>\n                        <td id=\"T_f271965e_1c25_11eb_82be_04d4c4e83fa3row1_col9\" class=\"data row1 col9\" >153</td>\n                        <td id=\"T_f271965e_1c25_11eb_82be_04d4c4e83fa3row1_col10\" class=\"data row1 col10\" >118</td>\n                        <td id=\"T_f271965e_1c25_11eb_82be_04d4c4e83fa3row1_col11\" class=\"data row1 col11\" >118</td>\n                        <td id=\"T_f271965e_1c25_11eb_82be_04d4c4e83fa3row1_col12\" class=\"data row1 col12\" >118</td>\n                        <td id=\"T_f271965e_1c25_11eb_82be_04d4c4e83fa3row1_col13\" class=\"data row1 col13\" >6</td>\n                        <td id=\"T_f271965e_1c25_11eb_82be_04d4c4e83fa3row1_col14\" class=\"data row1 col14\" >0</td>\n                        <td id=\"T_f271965e_1c25_11eb_82be_04d4c4e83fa3row1_col15\" class=\"data row1 col15\" >0</td>\n                        <td id=\"T_f271965e_1c25_11eb_82be_04d4c4e83fa3row1_col16\" class=\"data row1 col16\" >0</td>\n                        <td id=\"T_f271965e_1c25_11eb_82be_04d4c4e83fa3row1_col17\" class=\"data row1 col17\" >0</td>\n            </tr>\n            <tr>\n                        <th id=\"T_f271965e_1c25_11eb_82be_04d4c4e83fa3level0_row2\" class=\"row_heading level0 row2\" >2</th>\n                        <td id=\"T_f271965e_1c25_11eb_82be_04d4c4e83fa3row2_col0\" class=\"data row2 col0\" >0</td>\n                        <td id=\"T_f271965e_1c25_11eb_82be_04d4c4e83fa3row2_col1\" class=\"data row2 col1\" >71</td>\n                        <td id=\"T_f271965e_1c25_11eb_82be_04d4c4e83fa3row2_col2\" class=\"data row2 col2\" >234</td>\n                        <td id=\"T_f271965e_1c25_11eb_82be_04d4c4e83fa3row2_col3\" class=\"data row2 col3\" >234</td>\n                        <td id=\"T_f271965e_1c25_11eb_82be_04d4c4e83fa3row2_col4\" class=\"data row2 col4\" >234</td>\n                        <td id=\"T_f271965e_1c25_11eb_82be_04d4c4e83fa3row2_col5\" class=\"data row2 col5\" >244</td>\n                        <td id=\"T_f271965e_1c25_11eb_82be_04d4c4e83fa3row2_col6\" class=\"data row2 col6\" >253</td>\n                        <td id=\"T_f271965e_1c25_11eb_82be_04d4c4e83fa3row2_col7\" class=\"data row2 col7\" >253</td>\n                        <td id=\"T_f271965e_1c25_11eb_82be_04d4c4e83fa3row2_col8\" class=\"data row2 col8\" >253</td>\n                        <td id=\"T_f271965e_1c25_11eb_82be_04d4c4e83fa3row2_col9\" class=\"data row2 col9\" >253</td>\n                        <td id=\"T_f271965e_1c25_11eb_82be_04d4c4e83fa3row2_col10\" class=\"data row2 col10\" >253</td>\n                        <td id=\"T_f271965e_1c25_11eb_82be_04d4c4e83fa3row2_col11\" class=\"data row2 col11\" >253</td>\n                        <td id=\"T_f271965e_1c25_11eb_82be_04d4c4e83fa3row2_col12\" class=\"data row2 col12\" >253</td>\n                        <td id=\"T_f271965e_1c25_11eb_82be_04d4c4e83fa3row2_col13\" class=\"data row2 col13\" >179</td>\n                        <td id=\"T_f271965e_1c25_11eb_82be_04d4c4e83fa3row2_col14\" class=\"data row2 col14\" >66</td>\n                        <td id=\"T_f271965e_1c25_11eb_82be_04d4c4e83fa3row2_col15\" class=\"data row2 col15\" >0</td>\n                        <td id=\"T_f271965e_1c25_11eb_82be_04d4c4e83fa3row2_col16\" class=\"data row2 col16\" >0</td>\n                        <td id=\"T_f271965e_1c25_11eb_82be_04d4c4e83fa3row2_col17\" class=\"data row2 col17\" >0</td>\n            </tr>\n            <tr>\n                        <th id=\"T_f271965e_1c25_11eb_82be_04d4c4e83fa3level0_row3\" class=\"row_heading level0 row3\" >3</th>\n                        <td id=\"T_f271965e_1c25_11eb_82be_04d4c4e83fa3row3_col0\" class=\"data row3 col0\" >0</td>\n                        <td id=\"T_f271965e_1c25_11eb_82be_04d4c4e83fa3row3_col1\" class=\"data row3 col1\" >191</td>\n                        <td id=\"T_f271965e_1c25_11eb_82be_04d4c4e83fa3row3_col2\" class=\"data row3 col2\" >253</td>\n                        <td id=\"T_f271965e_1c25_11eb_82be_04d4c4e83fa3row3_col3\" class=\"data row3 col3\" >253</td>\n                        <td id=\"T_f271965e_1c25_11eb_82be_04d4c4e83fa3row3_col4\" class=\"data row3 col4\" >253</td>\n                        <td id=\"T_f271965e_1c25_11eb_82be_04d4c4e83fa3row3_col5\" class=\"data row3 col5\" >214</td>\n                        <td id=\"T_f271965e_1c25_11eb_82be_04d4c4e83fa3row3_col6\" class=\"data row3 col6\" >177</td>\n                        <td id=\"T_f271965e_1c25_11eb_82be_04d4c4e83fa3row3_col7\" class=\"data row3 col7\" >177</td>\n                        <td id=\"T_f271965e_1c25_11eb_82be_04d4c4e83fa3row3_col8\" class=\"data row3 col8\" >239</td>\n                        <td id=\"T_f271965e_1c25_11eb_82be_04d4c4e83fa3row3_col9\" class=\"data row3 col9\" >253</td>\n                        <td id=\"T_f271965e_1c25_11eb_82be_04d4c4e83fa3row3_col10\" class=\"data row3 col10\" >253</td>\n                        <td id=\"T_f271965e_1c25_11eb_82be_04d4c4e83fa3row3_col11\" class=\"data row3 col11\" >253</td>\n                        <td id=\"T_f271965e_1c25_11eb_82be_04d4c4e83fa3row3_col12\" class=\"data row3 col12\" >253</td>\n                        <td id=\"T_f271965e_1c25_11eb_82be_04d4c4e83fa3row3_col13\" class=\"data row3 col13\" >253</td>\n                        <td id=\"T_f271965e_1c25_11eb_82be_04d4c4e83fa3row3_col14\" class=\"data row3 col14\" >170</td>\n                        <td id=\"T_f271965e_1c25_11eb_82be_04d4c4e83fa3row3_col15\" class=\"data row3 col15\" >0</td>\n                        <td id=\"T_f271965e_1c25_11eb_82be_04d4c4e83fa3row3_col16\" class=\"data row3 col16\" >0</td>\n                        <td id=\"T_f271965e_1c25_11eb_82be_04d4c4e83fa3row3_col17\" class=\"data row3 col17\" >0</td>\n            </tr>\n            <tr>\n                        <th id=\"T_f271965e_1c25_11eb_82be_04d4c4e83fa3level0_row4\" class=\"row_heading level0 row4\" >4</th>\n                        <td id=\"T_f271965e_1c25_11eb_82be_04d4c4e83fa3row4_col0\" class=\"data row4 col0\" >0</td>\n                        <td id=\"T_f271965e_1c25_11eb_82be_04d4c4e83fa3row4_col1\" class=\"data row4 col1\" >109</td>\n                        <td id=\"T_f271965e_1c25_11eb_82be_04d4c4e83fa3row4_col2\" class=\"data row4 col2\" >181</td>\n                        <td id=\"T_f271965e_1c25_11eb_82be_04d4c4e83fa3row4_col3\" class=\"data row4 col3\" >61</td>\n                        <td id=\"T_f271965e_1c25_11eb_82be_04d4c4e83fa3row4_col4\" class=\"data row4 col4\" >61</td>\n                        <td id=\"T_f271965e_1c25_11eb_82be_04d4c4e83fa3row4_col5\" class=\"data row4 col5\" >30</td>\n                        <td id=\"T_f271965e_1c25_11eb_82be_04d4c4e83fa3row4_col6\" class=\"data row4 col6\" >0</td>\n                        <td id=\"T_f271965e_1c25_11eb_82be_04d4c4e83fa3row4_col7\" class=\"data row4 col7\" >0</td>\n                        <td id=\"T_f271965e_1c25_11eb_82be_04d4c4e83fa3row4_col8\" class=\"data row4 col8\" >50</td>\n                        <td id=\"T_f271965e_1c25_11eb_82be_04d4c4e83fa3row4_col9\" class=\"data row4 col9\" >61</td>\n                        <td id=\"T_f271965e_1c25_11eb_82be_04d4c4e83fa3row4_col10\" class=\"data row4 col10\" >150</td>\n                        <td id=\"T_f271965e_1c25_11eb_82be_04d4c4e83fa3row4_col11\" class=\"data row4 col11\" >229</td>\n                        <td id=\"T_f271965e_1c25_11eb_82be_04d4c4e83fa3row4_col12\" class=\"data row4 col12\" >253</td>\n                        <td id=\"T_f271965e_1c25_11eb_82be_04d4c4e83fa3row4_col13\" class=\"data row4 col13\" >253</td>\n                        <td id=\"T_f271965e_1c25_11eb_82be_04d4c4e83fa3row4_col14\" class=\"data row4 col14\" >233</td>\n                        <td id=\"T_f271965e_1c25_11eb_82be_04d4c4e83fa3row4_col15\" class=\"data row4 col15\" >41</td>\n                        <td id=\"T_f271965e_1c25_11eb_82be_04d4c4e83fa3row4_col16\" class=\"data row4 col16\" >0</td>\n                        <td id=\"T_f271965e_1c25_11eb_82be_04d4c4e83fa3row4_col17\" class=\"data row4 col17\" >0</td>\n            </tr>\n            <tr>\n                        <th id=\"T_f271965e_1c25_11eb_82be_04d4c4e83fa3level0_row5\" class=\"row_heading level0 row5\" >5</th>\n                        <td id=\"T_f271965e_1c25_11eb_82be_04d4c4e83fa3row5_col0\" class=\"data row5 col0\" >0</td>\n                        <td id=\"T_f271965e_1c25_11eb_82be_04d4c4e83fa3row5_col1\" class=\"data row5 col1\" >25</td>\n                        <td id=\"T_f271965e_1c25_11eb_82be_04d4c4e83fa3row5_col2\" class=\"data row5 col2\" >20</td>\n                        <td id=\"T_f271965e_1c25_11eb_82be_04d4c4e83fa3row5_col3\" class=\"data row5 col3\" >0</td>\n                        <td id=\"T_f271965e_1c25_11eb_82be_04d4c4e83fa3row5_col4\" class=\"data row5 col4\" >0</td>\n                        <td id=\"T_f271965e_1c25_11eb_82be_04d4c4e83fa3row5_col5\" class=\"data row5 col5\" >0</td>\n                        <td id=\"T_f271965e_1c25_11eb_82be_04d4c4e83fa3row5_col6\" class=\"data row5 col6\" >0</td>\n                        <td id=\"T_f271965e_1c25_11eb_82be_04d4c4e83fa3row5_col7\" class=\"data row5 col7\" >0</td>\n                        <td id=\"T_f271965e_1c25_11eb_82be_04d4c4e83fa3row5_col8\" class=\"data row5 col8\" >0</td>\n                        <td id=\"T_f271965e_1c25_11eb_82be_04d4c4e83fa3row5_col9\" class=\"data row5 col9\" >0</td>\n                        <td id=\"T_f271965e_1c25_11eb_82be_04d4c4e83fa3row5_col10\" class=\"data row5 col10\" >0</td>\n                        <td id=\"T_f271965e_1c25_11eb_82be_04d4c4e83fa3row5_col11\" class=\"data row5 col11\" >144</td>\n                        <td id=\"T_f271965e_1c25_11eb_82be_04d4c4e83fa3row5_col12\" class=\"data row5 col12\" >253</td>\n                        <td id=\"T_f271965e_1c25_11eb_82be_04d4c4e83fa3row5_col13\" class=\"data row5 col13\" >253</td>\n                        <td id=\"T_f271965e_1c25_11eb_82be_04d4c4e83fa3row5_col14\" class=\"data row5 col14\" >253</td>\n                        <td id=\"T_f271965e_1c25_11eb_82be_04d4c4e83fa3row5_col15\" class=\"data row5 col15\" >54</td>\n                        <td id=\"T_f271965e_1c25_11eb_82be_04d4c4e83fa3row5_col16\" class=\"data row5 col16\" >0</td>\n                        <td id=\"T_f271965e_1c25_11eb_82be_04d4c4e83fa3row5_col17\" class=\"data row5 col17\" >0</td>\n            </tr>\n            <tr>\n                        <th id=\"T_f271965e_1c25_11eb_82be_04d4c4e83fa3level0_row6\" class=\"row_heading level0 row6\" >6</th>\n                        <td id=\"T_f271965e_1c25_11eb_82be_04d4c4e83fa3row6_col0\" class=\"data row6 col0\" >0</td>\n                        <td id=\"T_f271965e_1c25_11eb_82be_04d4c4e83fa3row6_col1\" class=\"data row6 col1\" >0</td>\n                        <td id=\"T_f271965e_1c25_11eb_82be_04d4c4e83fa3row6_col2\" class=\"data row6 col2\" >0</td>\n                        <td id=\"T_f271965e_1c25_11eb_82be_04d4c4e83fa3row6_col3\" class=\"data row6 col3\" >0</td>\n                        <td id=\"T_f271965e_1c25_11eb_82be_04d4c4e83fa3row6_col4\" class=\"data row6 col4\" >0</td>\n                        <td id=\"T_f271965e_1c25_11eb_82be_04d4c4e83fa3row6_col5\" class=\"data row6 col5\" >0</td>\n                        <td id=\"T_f271965e_1c25_11eb_82be_04d4c4e83fa3row6_col6\" class=\"data row6 col6\" >0</td>\n                        <td id=\"T_f271965e_1c25_11eb_82be_04d4c4e83fa3row6_col7\" class=\"data row6 col7\" >0</td>\n                        <td id=\"T_f271965e_1c25_11eb_82be_04d4c4e83fa3row6_col8\" class=\"data row6 col8\" >0</td>\n                        <td id=\"T_f271965e_1c25_11eb_82be_04d4c4e83fa3row6_col9\" class=\"data row6 col9\" >0</td>\n                        <td id=\"T_f271965e_1c25_11eb_82be_04d4c4e83fa3row6_col10\" class=\"data row6 col10\" >9</td>\n                        <td id=\"T_f271965e_1c25_11eb_82be_04d4c4e83fa3row6_col11\" class=\"data row6 col11\" >150</td>\n                        <td id=\"T_f271965e_1c25_11eb_82be_04d4c4e83fa3row6_col12\" class=\"data row6 col12\" >253</td>\n                        <td id=\"T_f271965e_1c25_11eb_82be_04d4c4e83fa3row6_col13\" class=\"data row6 col13\" >253</td>\n                        <td id=\"T_f271965e_1c25_11eb_82be_04d4c4e83fa3row6_col14\" class=\"data row6 col14\" >204</td>\n                        <td id=\"T_f271965e_1c25_11eb_82be_04d4c4e83fa3row6_col15\" class=\"data row6 col15\" >22</td>\n                        <td id=\"T_f271965e_1c25_11eb_82be_04d4c4e83fa3row6_col16\" class=\"data row6 col16\" >0</td>\n                        <td id=\"T_f271965e_1c25_11eb_82be_04d4c4e83fa3row6_col17\" class=\"data row6 col17\" >0</td>\n            </tr>\n            <tr>\n                        <th id=\"T_f271965e_1c25_11eb_82be_04d4c4e83fa3level0_row7\" class=\"row_heading level0 row7\" >7</th>\n                        <td id=\"T_f271965e_1c25_11eb_82be_04d4c4e83fa3row7_col0\" class=\"data row7 col0\" >0</td>\n                        <td id=\"T_f271965e_1c25_11eb_82be_04d4c4e83fa3row7_col1\" class=\"data row7 col1\" >0</td>\n                        <td id=\"T_f271965e_1c25_11eb_82be_04d4c4e83fa3row7_col2\" class=\"data row7 col2\" >0</td>\n                        <td id=\"T_f271965e_1c25_11eb_82be_04d4c4e83fa3row7_col3\" class=\"data row7 col3\" >0</td>\n                        <td id=\"T_f271965e_1c25_11eb_82be_04d4c4e83fa3row7_col4\" class=\"data row7 col4\" >0</td>\n                        <td id=\"T_f271965e_1c25_11eb_82be_04d4c4e83fa3row7_col5\" class=\"data row7 col5\" >0</td>\n                        <td id=\"T_f271965e_1c25_11eb_82be_04d4c4e83fa3row7_col6\" class=\"data row7 col6\" >0</td>\n                        <td id=\"T_f271965e_1c25_11eb_82be_04d4c4e83fa3row7_col7\" class=\"data row7 col7\" >0</td>\n                        <td id=\"T_f271965e_1c25_11eb_82be_04d4c4e83fa3row7_col8\" class=\"data row7 col8\" >0</td>\n                        <td id=\"T_f271965e_1c25_11eb_82be_04d4c4e83fa3row7_col9\" class=\"data row7 col9\" >97</td>\n                        <td id=\"T_f271965e_1c25_11eb_82be_04d4c4e83fa3row7_col10\" class=\"data row7 col10\" >210</td>\n                        <td id=\"T_f271965e_1c25_11eb_82be_04d4c4e83fa3row7_col11\" class=\"data row7 col11\" >253</td>\n                        <td id=\"T_f271965e_1c25_11eb_82be_04d4c4e83fa3row7_col12\" class=\"data row7 col12\" >253</td>\n                        <td id=\"T_f271965e_1c25_11eb_82be_04d4c4e83fa3row7_col13\" class=\"data row7 col13\" >253</td>\n                        <td id=\"T_f271965e_1c25_11eb_82be_04d4c4e83fa3row7_col14\" class=\"data row7 col14\" >170</td>\n                        <td id=\"T_f271965e_1c25_11eb_82be_04d4c4e83fa3row7_col15\" class=\"data row7 col15\" >0</td>\n                        <td id=\"T_f271965e_1c25_11eb_82be_04d4c4e83fa3row7_col16\" class=\"data row7 col16\" >0</td>\n                        <td id=\"T_f271965e_1c25_11eb_82be_04d4c4e83fa3row7_col17\" class=\"data row7 col17\" >0</td>\n            </tr>\n            <tr>\n                        <th id=\"T_f271965e_1c25_11eb_82be_04d4c4e83fa3level0_row8\" class=\"row_heading level0 row8\" >8</th>\n                        <td id=\"T_f271965e_1c25_11eb_82be_04d4c4e83fa3row8_col0\" class=\"data row8 col0\" >0</td>\n                        <td id=\"T_f271965e_1c25_11eb_82be_04d4c4e83fa3row8_col1\" class=\"data row8 col1\" >0</td>\n                        <td id=\"T_f271965e_1c25_11eb_82be_04d4c4e83fa3row8_col2\" class=\"data row8 col2\" >0</td>\n                        <td id=\"T_f271965e_1c25_11eb_82be_04d4c4e83fa3row8_col3\" class=\"data row8 col3\" >0</td>\n                        <td id=\"T_f271965e_1c25_11eb_82be_04d4c4e83fa3row8_col4\" class=\"data row8 col4\" >0</td>\n                        <td id=\"T_f271965e_1c25_11eb_82be_04d4c4e83fa3row8_col5\" class=\"data row8 col5\" >0</td>\n                        <td id=\"T_f271965e_1c25_11eb_82be_04d4c4e83fa3row8_col6\" class=\"data row8 col6\" >108</td>\n                        <td id=\"T_f271965e_1c25_11eb_82be_04d4c4e83fa3row8_col7\" class=\"data row8 col7\" >233</td>\n                        <td id=\"T_f271965e_1c25_11eb_82be_04d4c4e83fa3row8_col8\" class=\"data row8 col8\" >248</td>\n                        <td id=\"T_f271965e_1c25_11eb_82be_04d4c4e83fa3row8_col9\" class=\"data row8 col9\" >252</td>\n                        <td id=\"T_f271965e_1c25_11eb_82be_04d4c4e83fa3row8_col10\" class=\"data row8 col10\" >253</td>\n                        <td id=\"T_f271965e_1c25_11eb_82be_04d4c4e83fa3row8_col11\" class=\"data row8 col11\" >253</td>\n                        <td id=\"T_f271965e_1c25_11eb_82be_04d4c4e83fa3row8_col12\" class=\"data row8 col12\" >253</td>\n                        <td id=\"T_f271965e_1c25_11eb_82be_04d4c4e83fa3row8_col13\" class=\"data row8 col13\" >208</td>\n                        <td id=\"T_f271965e_1c25_11eb_82be_04d4c4e83fa3row8_col14\" class=\"data row8 col14\" >22</td>\n                        <td id=\"T_f271965e_1c25_11eb_82be_04d4c4e83fa3row8_col15\" class=\"data row8 col15\" >0</td>\n                        <td id=\"T_f271965e_1c25_11eb_82be_04d4c4e83fa3row8_col16\" class=\"data row8 col16\" >0</td>\n                        <td id=\"T_f271965e_1c25_11eb_82be_04d4c4e83fa3row8_col17\" class=\"data row8 col17\" >0</td>\n            </tr>\n            <tr>\n                        <th id=\"T_f271965e_1c25_11eb_82be_04d4c4e83fa3level0_row9\" class=\"row_heading level0 row9\" >9</th>\n                        <td id=\"T_f271965e_1c25_11eb_82be_04d4c4e83fa3row9_col0\" class=\"data row9 col0\" >0</td>\n                        <td id=\"T_f271965e_1c25_11eb_82be_04d4c4e83fa3row9_col1\" class=\"data row9 col1\" >0</td>\n                        <td id=\"T_f271965e_1c25_11eb_82be_04d4c4e83fa3row9_col2\" class=\"data row9 col2\" >0</td>\n                        <td id=\"T_f271965e_1c25_11eb_82be_04d4c4e83fa3row9_col3\" class=\"data row9 col3\" >0</td>\n                        <td id=\"T_f271965e_1c25_11eb_82be_04d4c4e83fa3row9_col4\" class=\"data row9 col4\" >5</td>\n                        <td id=\"T_f271965e_1c25_11eb_82be_04d4c4e83fa3row9_col5\" class=\"data row9 col5\" >160</td>\n                        <td id=\"T_f271965e_1c25_11eb_82be_04d4c4e83fa3row9_col6\" class=\"data row9 col6\" >253</td>\n                        <td id=\"T_f271965e_1c25_11eb_82be_04d4c4e83fa3row9_col7\" class=\"data row9 col7\" >253</td>\n                        <td id=\"T_f271965e_1c25_11eb_82be_04d4c4e83fa3row9_col8\" class=\"data row9 col8\" >253</td>\n                        <td id=\"T_f271965e_1c25_11eb_82be_04d4c4e83fa3row9_col9\" class=\"data row9 col9\" >253</td>\n                        <td id=\"T_f271965e_1c25_11eb_82be_04d4c4e83fa3row9_col10\" class=\"data row9 col10\" >253</td>\n                        <td id=\"T_f271965e_1c25_11eb_82be_04d4c4e83fa3row9_col11\" class=\"data row9 col11\" >253</td>\n                        <td id=\"T_f271965e_1c25_11eb_82be_04d4c4e83fa3row9_col12\" class=\"data row9 col12\" >253</td>\n                        <td id=\"T_f271965e_1c25_11eb_82be_04d4c4e83fa3row9_col13\" class=\"data row9 col13\" >186</td>\n                        <td id=\"T_f271965e_1c25_11eb_82be_04d4c4e83fa3row9_col14\" class=\"data row9 col14\" >12</td>\n                        <td id=\"T_f271965e_1c25_11eb_82be_04d4c4e83fa3row9_col15\" class=\"data row9 col15\" >0</td>\n                        <td id=\"T_f271965e_1c25_11eb_82be_04d4c4e83fa3row9_col16\" class=\"data row9 col16\" >0</td>\n                        <td id=\"T_f271965e_1c25_11eb_82be_04d4c4e83fa3row9_col17\" class=\"data row9 col17\" >0</td>\n            </tr>\n            <tr>\n                        <th id=\"T_f271965e_1c25_11eb_82be_04d4c4e83fa3level0_row10\" class=\"row_heading level0 row10\" >10</th>\n                        <td id=\"T_f271965e_1c25_11eb_82be_04d4c4e83fa3row10_col0\" class=\"data row10 col0\" >0</td>\n                        <td id=\"T_f271965e_1c25_11eb_82be_04d4c4e83fa3row10_col1\" class=\"data row10 col1\" >0</td>\n                        <td id=\"T_f271965e_1c25_11eb_82be_04d4c4e83fa3row10_col2\" class=\"data row10 col2\" >0</td>\n                        <td id=\"T_f271965e_1c25_11eb_82be_04d4c4e83fa3row10_col3\" class=\"data row10 col3\" >0</td>\n                        <td id=\"T_f271965e_1c25_11eb_82be_04d4c4e83fa3row10_col4\" class=\"data row10 col4\" >11</td>\n                        <td id=\"T_f271965e_1c25_11eb_82be_04d4c4e83fa3row10_col5\" class=\"data row10 col5\" >220</td>\n                        <td id=\"T_f271965e_1c25_11eb_82be_04d4c4e83fa3row10_col6\" class=\"data row10 col6\" >253</td>\n                        <td id=\"T_f271965e_1c25_11eb_82be_04d4c4e83fa3row10_col7\" class=\"data row10 col7\" >253</td>\n                        <td id=\"T_f271965e_1c25_11eb_82be_04d4c4e83fa3row10_col8\" class=\"data row10 col8\" >253</td>\n                        <td id=\"T_f271965e_1c25_11eb_82be_04d4c4e83fa3row10_col9\" class=\"data row10 col9\" >240</td>\n                        <td id=\"T_f271965e_1c25_11eb_82be_04d4c4e83fa3row10_col10\" class=\"data row10 col10\" >184</td>\n                        <td id=\"T_f271965e_1c25_11eb_82be_04d4c4e83fa3row10_col11\" class=\"data row10 col11\" >224</td>\n                        <td id=\"T_f271965e_1c25_11eb_82be_04d4c4e83fa3row10_col12\" class=\"data row10 col12\" >253</td>\n                        <td id=\"T_f271965e_1c25_11eb_82be_04d4c4e83fa3row10_col13\" class=\"data row10 col13\" >253</td>\n                        <td id=\"T_f271965e_1c25_11eb_82be_04d4c4e83fa3row10_col14\" class=\"data row10 col14\" >167</td>\n                        <td id=\"T_f271965e_1c25_11eb_82be_04d4c4e83fa3row10_col15\" class=\"data row10 col15\" >15</td>\n                        <td id=\"T_f271965e_1c25_11eb_82be_04d4c4e83fa3row10_col16\" class=\"data row10 col16\" >0</td>\n                        <td id=\"T_f271965e_1c25_11eb_82be_04d4c4e83fa3row10_col17\" class=\"data row10 col17\" >0</td>\n            </tr>\n    </tbody></table>"
     },
     "metadata": {},
     "execution_count": 5
    }
   ],
   "source": [
    "#translate an image to tensor, so that computer will understand what is it\n",
    "img3_t = tensor(img3)\n",
    "\n",
    "df = pd.DataFrame(img3_t[4:15,4:22]) #plot one region\n",
    "df.style.set_properties(**{'font-size':'6pt'}).background_gradient('Greys') #plot with grey colors"
   ]
  },
  {
   "cell_type": "code",
   "execution_count": null,
   "metadata": {},
   "outputs": [],
   "source": []
  },
  {
   "cell_type": "code",
   "execution_count": 6,
   "metadata": {},
   "outputs": [],
   "source": [
    "# FINDING AVERAGE VALUE OF ENTIRE FOLDER OF 3's AND 7's"
   ]
  },
  {
   "cell_type": "code",
   "execution_count": 7,
   "metadata": {},
   "outputs": [
    {
     "output_type": "display_data",
     "data": {
      "text/plain": "<Figure size 72x72 with 1 Axes>",
      "image/svg+xml": "<?xml version=\"1.0\" encoding=\"utf-8\" standalone=\"no\"?>\r\n<!DOCTYPE svg PUBLIC \"-//W3C//DTD SVG 1.1//EN\"\r\n  \"http://www.w3.org/Graphics/SVG/1.1/DTD/svg11.dtd\">\r\n<!-- Created with matplotlib (https://matplotlib.org/) -->\r\n<svg height=\"68.76pt\" version=\"1.1\" viewBox=\"0 0 68.76 68.76\" width=\"68.76pt\" xmlns=\"http://www.w3.org/2000/svg\" xmlns:xlink=\"http://www.w3.org/1999/xlink\">\r\n <metadata>\r\n  <rdf:RDF xmlns:cc=\"http://creativecommons.org/ns#\" xmlns:dc=\"http://purl.org/dc/elements/1.1/\" xmlns:rdf=\"http://www.w3.org/1999/02/22-rdf-syntax-ns#\">\r\n   <cc:Work>\r\n    <dc:type rdf:resource=\"http://purl.org/dc/dcmitype/StillImage\"/>\r\n    <dc:date>2020-11-01T17:38:15.562724</dc:date>\r\n    <dc:format>image/svg+xml</dc:format>\r\n    <dc:creator>\r\n     <cc:Agent>\r\n      <dc:title>Matplotlib v3.3.2, https://matplotlib.org/</dc:title>\r\n     </cc:Agent>\r\n    </dc:creator>\r\n   </cc:Work>\r\n  </rdf:RDF>\r\n </metadata>\r\n <defs>\r\n  <style type=\"text/css\">*{stroke-linecap:butt;stroke-linejoin:round;}</style>\r\n </defs>\r\n <g id=\"figure_1\">\r\n  <g id=\"patch_1\">\r\n   <path d=\"M 0 68.76 \r\nL 68.76 68.76 \r\nL 68.76 0 \r\nL 0 0 \r\nz\r\n\" style=\"fill:none;\"/>\r\n  </g>\r\n  <g id=\"axes_1\">\r\n   <g clip-path=\"url(#pdf3642fdbe)\">\r\n    <image height=\"55\" id=\"imagec0dd986a80\" transform=\"scale(1 -1)translate(0 -55)\" width=\"55\" x=\"7.2\" xlink:href=\"data:image/png;base64,\r\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\" y=\"-6.56\"/>\r\n   </g>\r\n  </g>\r\n </g>\r\n <defs>\r\n  <clipPath id=\"pdf3642fdbe\">\r\n   <rect height=\"54.36\" width=\"54.36\" x=\"7.2\" y=\"7.2\"/>\r\n  </clipPath>\r\n </defs>\r\n</svg>\r\n",
      "image/png": "[encoded data removed]"
     },
     "metadata": {
      "needs_background": "light"
     }
    }
   ],
   "source": [
    "# create a list of tensors (hard way)\n",
    "# three_tensors = []\n",
    "# for i in threes:\n",
    "#     three_tensors.append(tensor(Image.open(i)))\n",
    "\n",
    "\n",
    "# create a list of tensors (easy, list comprehension, way)\n",
    "three_tensors = [tensor(Image.open(o)) for o in threes]\n",
    "seven_tensors = [tensor(Image.open(o)) for o in sevens]\n",
    "\n",
    "show_image(seven_tensors[100]);"
   ]
  },
  {
   "cell_type": "code",
   "execution_count": 8,
   "metadata": {},
   "outputs": [
    {
     "output_type": "execute_result",
     "data": {
      "text/plain": [
       "(torch.Size([6131, 28, 28]), torch.Size([6265, 28, 28]))"
      ]
     },
     "metadata": {},
     "execution_count": 8
    }
   ],
   "source": [
    "#stacking all images into one big tensor\n",
    "stacked_sevens = torch.stack(seven_tensors).float()/255\n",
    "stacked_threes = torch.stack(three_tensors).float()/255\n",
    "\n",
    "stacked_threes.shape, stacked_sevens.shape"
   ]
  },
  {
   "cell_type": "code",
   "execution_count": 9,
   "metadata": {},
   "outputs": [
    {
     "output_type": "display_data",
     "data": {
      "text/plain": "<Figure size 72x72 with 1 Axes>",
      "image/svg+xml": "<?xml version=\"1.0\" encoding=\"utf-8\" standalone=\"no\"?>\r\n<!DOCTYPE svg PUBLIC \"-//W3C//DTD SVG 1.1//EN\"\r\n  \"http://www.w3.org/Graphics/SVG/1.1/DTD/svg11.dtd\">\r\n<!-- Created with matplotlib (https://matplotlib.org/) -->\r\n<svg height=\"68.76pt\" version=\"1.1\" viewBox=\"0 0 68.76 68.76\" width=\"68.76pt\" xmlns=\"http://www.w3.org/2000/svg\" xmlns:xlink=\"http://www.w3.org/1999/xlink\">\r\n <metadata>\r\n  <rdf:RDF xmlns:cc=\"http://creativecommons.org/ns#\" xmlns:dc=\"http://purl.org/dc/elements/1.1/\" xmlns:rdf=\"http://www.w3.org/1999/02/22-rdf-syntax-ns#\">\r\n   <cc:Work>\r\n    <dc:type rdf:resource=\"http://purl.org/dc/dcmitype/StillImage\"/>\r\n    <dc:date>2020-11-01T17:38:15.802738</dc:date>\r\n    <dc:format>image/svg+xml</dc:format>\r\n    <dc:creator>\r\n     <cc:Agent>\r\n      <dc:title>Matplotlib v3.3.2, https://matplotlib.org/</dc:title>\r\n     </cc:Agent>\r\n    </dc:creator>\r\n   </cc:Work>\r\n  </rdf:RDF>\r\n </metadata>\r\n <defs>\r\n  <style type=\"text/css\">*{stroke-linecap:butt;stroke-linejoin:round;}</style>\r\n </defs>\r\n <g id=\"figure_1\">\r\n  <g id=\"patch_1\">\r\n   <path d=\"M 0 68.76 \r\nL 68.76 68.76 \r\nL 68.76 0 \r\nL 0 0 \r\nz\r\n\" style=\"fill:none;\"/>\r\n  </g>\r\n  <g id=\"axes_1\">\r\n   <g clip-path=\"url(#p0c660b877c)\">\r\n    <image height=\"55\" id=\"image0869733112\" transform=\"scale(1 -1)translate(0 -55)\" width=\"55\" x=\"7.2\" xlink:href=\"data:image/png;base64,\r\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\" y=\"-6.56\"/>\r\n   </g>\r\n  </g>\r\n </g>\r\n <defs>\r\n  <clipPath id=\"p0c660b877c\">\r\n   <rect height=\"54.36\" width=\"54.36\" x=\"7.2\" y=\"7.2\"/>\r\n  </clipPath>\r\n </defs>\r\n</svg>\r\n",
      "image/png": "[encoded data removed]"
     },
     "metadata": {
      "needs_background": "light"
     }
    },
    {
     "output_type": "display_data",
     "data": {
      "text/plain": "<Figure size 72x72 with 1 Axes>",
      "image/svg+xml": "<?xml version=\"1.0\" encoding=\"utf-8\" standalone=\"no\"?>\r\n<!DOCTYPE svg PUBLIC \"-//W3C//DTD SVG 1.1//EN\"\r\n  \"http://www.w3.org/Graphics/SVG/1.1/DTD/svg11.dtd\">\r\n<!-- Created with matplotlib (https://matplotlib.org/) -->\r\n<svg height=\"68.76pt\" version=\"1.1\" viewBox=\"0 0 68.76 68.76\" width=\"68.76pt\" xmlns=\"http://www.w3.org/2000/svg\" xmlns:xlink=\"http://www.w3.org/1999/xlink\">\r\n <metadata>\r\n  <rdf:RDF xmlns:cc=\"http://creativecommons.org/ns#\" xmlns:dc=\"http://purl.org/dc/elements/1.1/\" xmlns:rdf=\"http://www.w3.org/1999/02/22-rdf-syntax-ns#\">\r\n   <cc:Work>\r\n    <dc:type rdf:resource=\"http://purl.org/dc/dcmitype/StillImage\"/>\r\n    <dc:date>2020-11-01T17:38:15.840743</dc:date>\r\n    <dc:format>image/svg+xml</dc:format>\r\n    <dc:creator>\r\n     <cc:Agent>\r\n      <dc:title>Matplotlib v3.3.2, https://matplotlib.org/</dc:title>\r\n     </cc:Agent>\r\n    </dc:creator>\r\n   </cc:Work>\r\n  </rdf:RDF>\r\n </metadata>\r\n <defs>\r\n  <style type=\"text/css\">*{stroke-linecap:butt;stroke-linejoin:round;}</style>\r\n </defs>\r\n <g id=\"figure_1\">\r\n  <g id=\"patch_1\">\r\n   <path d=\"M 0 68.76 \r\nL 68.76 68.76 \r\nL 68.76 0 \r\nL 0 0 \r\nz\r\n\" style=\"fill:none;\"/>\r\n  </g>\r\n  <g id=\"axes_1\">\r\n   <g clip-path=\"url(#p76b4a8191f)\">\r\n    <image height=\"55\" id=\"image15bb1a4cf8\" transform=\"scale(1 -1)translate(0 -55)\" width=\"55\" x=\"7.2\" xlink:href=\"data:image/png;base64,\r\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\" y=\"-6.56\"/>\r\n   </g>\r\n  </g>\r\n </g>\r\n <defs>\r\n  <clipPath id=\"p76b4a8191f\">\r\n   <rect height=\"54.36\" width=\"54.36\" x=\"7.2\" y=\"7.2\"/>\r\n  </clipPath>\r\n </defs>\r\n</svg>\r\n",
      "image/png": "[encoded data removed]"
     },
     "metadata": {
      "needs_background": "light"
     }
    }
   ],
   "source": [
    "mean3 = stacked_threes.mean(0)\n",
    "mean7 = stacked_sevens.mean(0)\n",
    "show_image(mean3);\n",
    "show_image(mean7);"
   ]
  },
  {
   "cell_type": "code",
   "execution_count": null,
   "metadata": {},
   "outputs": [],
   "source": []
  },
  {
   "cell_type": "code",
   "execution_count": 10,
   "metadata": {},
   "outputs": [
    {
     "output_type": "stream",
     "name": "stdout",
     "text": [
      "L1 norm is: 0.12162479013204575, L2 norm is: 0.2195712924003601\n"
     ]
    }
   ],
   "source": [
    "#pick a random 3, and compare it to ideal 3\n",
    "a_3 = stacked_threes[1010]\n",
    "\n",
    "dist_3_abs = (a_3 - mean3).abs().mean() #mean absolute difference, L1 norm\n",
    "dist_3_sqr = ((a_3 - mean3)**2).mean().sqrt() #root mean squared error, L2 norm\n",
    "\n",
    "print('L1 norm is: {}, L2 norm is: {}'.format(dist_3_abs,dist_3_sqr))"
   ]
  },
  {
   "cell_type": "code",
   "execution_count": 11,
   "metadata": {},
   "outputs": [
    {
     "output_type": "execute_result",
     "data": {
      "text/plain": [
       "(tensor(0.1216), tensor(0.2196))"
      ]
     },
     "metadata": {},
     "execution_count": 11
    }
   ],
   "source": [
    "#using PyTorch built in methods\n",
    "F.l1_loss(a_3.float(),mean3), F.mse_loss(a_3,mean3).sqrt()"
   ]
  },
  {
   "cell_type": "code",
   "execution_count": null,
   "metadata": {},
   "outputs": [],
   "source": []
  },
  {
   "cell_type": "code",
   "execution_count": 12,
   "metadata": {},
   "outputs": [],
   "source": [
    "#validation set"
   ]
  },
  {
   "cell_type": "code",
   "execution_count": 13,
   "metadata": {},
   "outputs": [
    {
     "output_type": "execute_result",
     "data": {
      "text/plain": [
       "(torch.Size([1010, 28, 28]), torch.Size([1028, 28, 28]))"
      ]
     },
     "metadata": {},
     "execution_count": 13
    }
   ],
   "source": [
    "valid_3_tens = torch.stack([tensor(Image.open(o)) for o in (path/'valid'/'3').ls()])\n",
    "valid_3_tens = valid_3_tens.float()/255\n",
    "\n",
    "valid_7_tens = torch.stack([tensor(Image.open(o)) for o in (path/'valid'/'7').ls()])\n",
    "valid_7_tens = valid_7_tens.float()/255\n",
    "\n",
    "valid_3_tens.shape,valid_7_tens.shape"
   ]
  },
  {
   "cell_type": "code",
   "execution_count": 14,
   "metadata": {},
   "outputs": [
    {
     "output_type": "execute_result",
     "data": {
      "text/plain": [
       "tensor(0.1216)"
      ]
     },
     "metadata": {},
     "execution_count": 14
    }
   ],
   "source": [
    "#function that compares an tensor with an ideal tensor\n",
    "def mnist_distance(a,b): return (a-b).abs().mean((-1,-2))\n",
    "#(a-b).abs()    - absolute value of the difference between ideal tensor and the tensor of comparison\n",
    "#.mean((-1,-2)) - -1 is the last axis, -2 is second to last. Here we averaged the intensity of all the pixels in one image\n",
    "\n",
    "mnist_distance(a_3, mean3)"
   ]
  },
  {
   "cell_type": "code",
   "execution_count": null,
   "metadata": {},
   "outputs": [],
   "source": []
  },
  {
   "cell_type": "code",
   "execution_count": 15,
   "metadata": {},
   "outputs": [
    {
     "output_type": "execute_result",
     "data": {
      "text/plain": [
       "(tensor([0.1280, 0.1623, 0.1242,  ..., 0.1508, 0.1263, 0.1260]),\n",
       " torch.Size([1010]))"
      ]
     },
     "metadata": {},
     "execution_count": 15
    }
   ],
   "source": [
    "#validate results of out model with images from validation set\n",
    "valid_3_dist = mnist_distance(valid_3_tens, mean3)\n",
    "#PyTorch automatically applies broadcasting, \n",
    "#pretending that mean3(28,28) is a shape 1010 tensor, and (valid_3_tens - mean3) has the shape [1010,28,28]\n",
    "\n",
    "valid_3_dist, valid_3_dist.shape"
   ]
  },
  {
   "cell_type": "code",
   "execution_count": null,
   "metadata": {},
   "outputs": [],
   "source": []
  },
  {
   "cell_type": "code",
   "execution_count": 16,
   "metadata": {},
   "outputs": [],
   "source": [
    "#return 'is 3' is distance of \n",
    "def is_3(x): return mnist_distance(x,mean3) < mnist_distance(x,mean7)"
   ]
  },
  {
   "cell_type": "code",
   "execution_count": 17,
   "metadata": {},
   "outputs": [
    {
     "output_type": "execute_result",
     "data": {
      "text/plain": [
       "(tensor(0.9168), tensor(0.9854), tensor(0.9511))"
      ]
     },
     "metadata": {},
     "execution_count": 17
    }
   ],
   "source": [
    "#calculate accuracy\n",
    "accuracy_3s = is_3(valid_3_tens).float() .mean()      #output True if a tensor is 3, transfer to boolean, calculate mean\n",
    "accuracy_7s = (1 - is_3(valid_7_tens).float()).mean() #same as previous, 1- is for switching results\n",
    "\n",
    "accuracy_3s,accuracy_7s,(accuracy_3s+accuracy_7s)/2"
   ]
  },
  {
   "cell_type": "code",
   "execution_count": null,
   "metadata": {},
   "outputs": [],
   "source": []
  }
 ]
}