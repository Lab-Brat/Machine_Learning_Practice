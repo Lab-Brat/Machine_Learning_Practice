{
 "metadata": {
  "language_info": {
   "codemirror_mode": {
    "name": "ipython",
    "version": 3
   },
   "file_extension": ".py",
   "mimetype": "text/x-python",
   "name": "python",
   "nbconvert_exporter": "python",
   "pygments_lexer": "ipython3",
   "version": "3.9.1-final"
  },
  "orig_nbformat": 2,
  "kernelspec": {
   "name": "python3",
   "display_name": "Python 3.9.1 64-bit",
   "metadata": {
    "interpreter": {
     "hash": "4fe1fd0c3b7a7cf370fe43567826551f7f6acd70ddf4524b279a637d651e82b3"
    }
   }
  }
 },
 "nbformat": 4,
 "nbformat_minor": 2,
 "cells": [
  {
   "cell_type": "code",
   "execution_count": 2,
   "metadata": {},
   "outputs": [],
   "source": [
    "import numpy as np\n",
    "import pandas as pd\n",
    "import matplotlib as plt"
   ]
  },
  {
   "cell_type": "code",
   "execution_count": 3,
   "metadata": {},
   "outputs": [
    {
     "output_type": "execute_result",
     "data": {
      "text/plain": [
       "   ones  population   profit\n",
       "0     1      6.1101  17.5920\n",
       "1     1      5.5277   9.1302\n",
       "2     1      8.5186  13.6620\n",
       "3     1      7.0032  11.8540\n",
       "4     1      5.8598   6.8233"
      ],
      "text/html": "<div>\n<style scoped>\n    .dataframe tbody tr th:only-of-type {\n        vertical-align: middle;\n    }\n\n    .dataframe tbody tr th {\n        vertical-align: top;\n    }\n\n    .dataframe thead th {\n        text-align: right;\n    }\n</style>\n<table border=\"1\" class=\"dataframe\">\n  <thead>\n    <tr style=\"text-align: right;\">\n      <th></th>\n      <th>ones</th>\n      <th>population</th>\n      <th>profit</th>\n    </tr>\n  </thead>\n  <tbody>\n    <tr>\n      <th>0</th>\n      <td>1</td>\n      <td>6.1101</td>\n      <td>17.5920</td>\n    </tr>\n    <tr>\n      <th>1</th>\n      <td>1</td>\n      <td>5.5277</td>\n      <td>9.1302</td>\n    </tr>\n    <tr>\n      <th>2</th>\n      <td>1</td>\n      <td>8.5186</td>\n      <td>13.6620</td>\n    </tr>\n    <tr>\n      <th>3</th>\n      <td>1</td>\n      <td>7.0032</td>\n      <td>11.8540</td>\n    </tr>\n    <tr>\n      <th>4</th>\n      <td>1</td>\n      <td>5.8598</td>\n      <td>6.8233</td>\n    </tr>\n  </tbody>\n</table>\n</div>"
     },
     "metadata": {},
     "execution_count": 3
    }
   ],
   "source": [
    "data_1 = pd.read_csv('lin_reg_1.txt')\n",
    "\n",
    "xx = data_1['population']\n",
    "yy = data_1['profit']\n",
    "\n",
    "data_1.insert(0, 'ones', 1)\n",
    "data_1.head()"
   ]
  },
  {
   "cell_type": "code",
   "execution_count": 4,
   "metadata": {},
   "outputs": [
    {
     "output_type": "stream",
     "name": "stdout",
     "text": [
      "dimentions of X: (97, 2), dimentions of Y: (97, 1)\n"
     ]
    }
   ],
   "source": [
    "cols = data_1.shape[1] # column number\n",
    "\n",
    "X = np.matrix(data_1.iloc[:, 0:cols-1].values)   # 1's + population\n",
    "Y = np.matrix(data_1.iloc[:,cols-1:cols].values) # profit\n",
    "theta = np.matrix(np.zeros(2))\n",
    "\n",
    "# parameters for gradient descent\n",
    "m = len(Y)\n",
    "alpha = 0.01\n",
    "iters = 1200\n",
    "\n",
    "print('dimentions of X: {}, dimentions of Y: {}'.format(X.shape,Y.shape))"
   ]
  },
  {
   "cell_type": "code",
   "execution_count": null,
   "metadata": {},
   "outputs": [],
   "source": []
  },
  {
   "cell_type": "code",
   "execution_count": 7,
   "metadata": {},
   "outputs": [
    {
     "output_type": "stream",
     "name": "stdout",
     "text": [
      "Cost function for theta=[0;0]  is 32.07273387745567\nCost function for theta=[-1;2] is 54.24245508201237\n"
     ]
    }
   ],
   "source": [
    "def computeCost(X, Y, theta, m):\n",
    "    difference = (X * theta.T) - Y\n",
    "    J = ( 1/(2*m) * np.power(difference, 2) ).sum()\n",
    "    return J\n",
    "\n",
    "J = computeCost(X, Y, theta, m)\n",
    "J_test = computeCost(X, Y, np.matrix([-1, 2]), m)\n",
    "print(\"Cost function for theta=[0;0]  is {}\".format(J))\n",
    "print(\"Cost function for theta=[-1;2] is {}\".format(J_test))"
   ]
  },
  {
   "cell_type": "code",
   "execution_count": null,
   "metadata": {},
   "outputs": [],
   "source": []
  },
  {
   "cell_type": "code",
   "execution_count": 29,
   "metadata": {},
   "outputs": [
    {
     "output_type": "stream",
     "name": "stdout",
     "text": [
      "After 1200 iterations, theta = [[-3.43962171  1.14720751]]\n"
     ]
    }
   ],
   "source": [
    "def gradientDescent(X, Y, theta, alpha, iters):\n",
    "    temp = np.matrix(np.zeros(theta.shape))\n",
    "    parameters = theta.shape[1]\n",
    "    cost = np.zeros(iters)\n",
    "\n",
    "    for i in range(iters):\n",
    "        difference = (X * theta.T) - Y\n",
    "        for j in range(parameters):\n",
    "            term = np.multiply(difference, X[:,j])\n",
    "            temp[0,j] = theta[0,j] - ( alpha/len(X) * np.sum(term) )\n",
    "            theta = temp\n",
    "            cost[i] = computeCost(X, Y, theta, m)\n",
    "\n",
    "    return theta, cost\n",
    "\n",
    "theta_update, cost = gradientDescent(X, Y, theta, alpha, iters)\n",
    "print(\"After {} iterations, theta = {}\".format(iters, theta_update))"
   ]
  },
  {
   "cell_type": "code",
   "execution_count": null,
   "metadata": {},
   "outputs": [],
   "source": []
  }
 ]
}